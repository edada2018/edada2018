{
  "cells": [
    {
      "cell_type": "markdown",
      "metadata": {
        "id": "view-in-github",
        "colab_type": "text"
      },
      "source": [
        "<a href=\"https://colab.research.google.com/github/edada2018/edada2018/blob/main/another_copy_of_eleg_6380_homework_4_elizabeth_dada_ipynb.ipynb\" target=\"_parent\"><img src=\"https://colab.research.google.com/assets/colab-badge.svg\" alt=\"Open In Colab\"/></a>"
      ]
    },
    {
      "cell_type": "markdown",
      "metadata": {
        "id": "OhxUDlnOSHNC"
      },
      "source": [
        "# Homework 4  "
      ]
    },
    {
      "cell_type": "markdown",
      "source": [],
      "metadata": {
        "id": "3K0aH4QpXRld"
      }
    },
    {
      "cell_type": "markdown",
      "metadata": {
        "id": "TkK9JWPKY0BY"
      },
      "source": [
        "# Question 1: Gene Set Analysis"
      ]
    },
    {
      "cell_type": "code",
      "source": [],
      "metadata": {
        "id": "OfP4GvBG6uFA"
      },
      "execution_count": null,
      "outputs": []
    },
    {
      "cell_type": "code",
      "execution_count": null,
      "metadata": {
        "colab": {
          "base_uri": "https://localhost:8080/"
        },
        "id": "bi7LxU0N8edT",
        "outputId": "1c845b16-10a1-4247-818b-8ef7fe7231fa"
      },
      "outputs": [
        {
          "output_type": "stream",
          "name": "stderr",
          "text": [
            "Installing package into ‘/usr/local/lib/R/site-library’\n",
            "(as ‘lib’ is unspecified)\n",
            "\n",
            "'getOption(\"repos\")' replaces Bioconductor standard repositories, see\n",
            "'help(\"repositories\", package = \"BiocManager\")' for details.\n",
            "Replacement repositories:\n",
            "    CRAN: https://cran.rstudio.com\n",
            "\n",
            "Bioconductor version 3.19 (BiocManager 1.30.23), R 4.4.0 (2024-04-24)\n",
            "\n",
            "Installing package(s) 'BiocVersion', 'ComplexHeatmap'\n",
            "\n",
            "also installing the dependencies ‘shape’, ‘rjson’, ‘BiocGenerics’, ‘S4Vectors’, ‘iterators’, ‘circlize’, ‘GetoptLong’, ‘clue’, ‘GlobalOptions’, ‘png’, ‘IRanges’, ‘matrixStats’, ‘foreach’, ‘doParallel’\n",
            "\n",
            "\n",
            "Old packages: 'bit', 'brio', 'bslib', 'callr', 'curl', 'data.table', 'DBI',\n",
            "  'dbplyr', 'devtools', 'digest', 'fs', 'gargle', 'ggplot2', 'gh', 'gtable',\n",
            "  'highr', 'htmltools', 'httr2', 'isoband', 'knitr', 'munsell', 'openssl',\n",
            "  'pkgbuild', 'processx', 'ragg', 'remotes', 'rmarkdown', 'rstudioapi',\n",
            "  'rvest', 'sass', 'stringi', 'systemfonts', 'testthat', 'textshaping',\n",
            "  'tidyselect', 'tinytex', 'usethis', 'whisker', 'xfun', 'xopen', 'zip',\n",
            "  'codetools', 'lattice', 'MASS', 'Matrix', 'nlme', 'survival'\n",
            "\n"
          ]
        }
      ],
      "source": [
        "#Install BiocManager\n",
        "if (!require (\"BiocManager\", quietly = TRUE))\n",
        "\n",
        "    install.packages(\"BiocManager\")\n",
        "\n",
        "BiocManager:: install(\"ComplexHeatmap\")\n",
        "\n"
      ]
    },
    {
      "cell_type": "code",
      "execution_count": null,
      "metadata": {
        "colab": {
          "base_uri": "https://localhost:8080/"
        },
        "id": "OINv2_qD-0vu",
        "outputId": "f4b936c7-faeb-4bef-ed79-3d74f9044800"
      },
      "outputs": [
        {
          "output_type": "stream",
          "name": "stderr",
          "text": [
            "'getOption(\"repos\")' replaces Bioconductor standard repositories, see\n",
            "'help(\"repositories\", package = \"BiocManager\")' for details.\n",
            "Replacement repositories:\n",
            "    CRAN: https://cran.rstudio.com\n",
            "\n",
            "Bioconductor version 3.19 (BiocManager 1.30.23), R 4.4.0 (2024-04-24)\n",
            "\n",
            "Installing package(s) 'DESeq2'\n",
            "\n",
            "also installing the dependencies ‘SparseArray’, ‘S4Arrays’, ‘DelayedArray’, ‘SummarizedExperiment’\n",
            "\n",
            "\n",
            "Old packages: 'bit', 'brio', 'bslib', 'callr', 'curl', 'data.table', 'DBI',\n",
            "  'dbplyr', 'devtools', 'digest', 'fs', 'gargle', 'ggplot2', 'gh', 'gtable',\n",
            "  'highr', 'htmltools', 'httr2', 'isoband', 'knitr', 'munsell', 'openssl',\n",
            "  'pkgbuild', 'processx', 'ragg', 'remotes', 'rmarkdown', 'rstudioapi',\n",
            "  'rvest', 'sass', 'stringi', 'systemfonts', 'testthat', 'textshaping',\n",
            "  'tidyselect', 'tinytex', 'usethis', 'whisker', 'xfun', 'xopen', 'zip',\n",
            "  'codetools', 'lattice', 'MASS', 'Matrix', 'nlme', 'survival'\n",
            "\n"
          ]
        }
      ],
      "source": [
        "BiocManager::install(\"DESeq2\") #Install DEseq2\n"
      ]
    },
    {
      "cell_type": "code",
      "execution_count": null,
      "metadata": {
        "id": "Md3MhYHE_ro0",
        "colab": {
          "base_uri": "https://localhost:8080/"
        },
        "outputId": "4764ef48-2f35-4539-f5ed-e70d6ca0e96f"
      },
      "outputs": [
        {
          "output_type": "stream",
          "name": "stderr",
          "text": [
            "Loading required package: S4Vectors\n",
            "\n",
            "Loading required package: stats4\n",
            "\n",
            "Loading required package: BiocGenerics\n",
            "\n",
            "\n",
            "Attaching package: ‘BiocGenerics’\n",
            "\n",
            "\n",
            "The following objects are masked from ‘package:stats’:\n",
            "\n",
            "    IQR, mad, sd, var, xtabs\n",
            "\n",
            "\n",
            "The following objects are masked from ‘package:base’:\n",
            "\n",
            "    anyDuplicated, aperm, append, as.data.frame, basename, cbind,\n",
            "    colnames, dirname, do.call, duplicated, eval, evalq, Filter, Find,\n",
            "    get, grep, grepl, intersect, is.unsorted, lapply, Map, mapply,\n",
            "    match, mget, order, paste, pmax, pmax.int, pmin, pmin.int,\n",
            "    Position, rank, rbind, Reduce, rownames, sapply, setdiff, table,\n",
            "    tapply, union, unique, unsplit, which.max, which.min\n",
            "\n",
            "\n",
            "\n",
            "Attaching package: ‘S4Vectors’\n",
            "\n",
            "\n",
            "The following object is masked from ‘package:utils’:\n",
            "\n",
            "    findMatches\n",
            "\n",
            "\n",
            "The following objects are masked from ‘package:base’:\n",
            "\n",
            "    expand.grid, I, unname\n",
            "\n",
            "\n",
            "Loading required package: IRanges\n",
            "\n",
            "Loading required package: GenomicRanges\n",
            "\n",
            "Loading required package: GenomeInfoDb\n",
            "\n",
            "Loading required package: SummarizedExperiment\n",
            "\n",
            "Loading required package: MatrixGenerics\n",
            "\n",
            "Loading required package: matrixStats\n",
            "\n",
            "\n",
            "Attaching package: ‘MatrixGenerics’\n",
            "\n",
            "\n",
            "The following objects are masked from ‘package:matrixStats’:\n",
            "\n",
            "    colAlls, colAnyNAs, colAnys, colAvgsPerRowSet, colCollapse,\n",
            "    colCounts, colCummaxs, colCummins, colCumprods, colCumsums,\n",
            "    colDiffs, colIQRDiffs, colIQRs, colLogSumExps, colMadDiffs,\n",
            "    colMads, colMaxs, colMeans2, colMedians, colMins, colOrderStats,\n",
            "    colProds, colQuantiles, colRanges, colRanks, colSdDiffs, colSds,\n",
            "    colSums2, colTabulates, colVarDiffs, colVars, colWeightedMads,\n",
            "    colWeightedMeans, colWeightedMedians, colWeightedSds,\n",
            "    colWeightedVars, rowAlls, rowAnyNAs, rowAnys, rowAvgsPerColSet,\n",
            "    rowCollapse, rowCounts, rowCummaxs, rowCummins, rowCumprods,\n",
            "    rowCumsums, rowDiffs, rowIQRDiffs, rowIQRs, rowLogSumExps,\n",
            "    rowMadDiffs, rowMads, rowMaxs, rowMeans2, rowMedians, rowMins,\n",
            "    rowOrderStats, rowProds, rowQuantiles, rowRanges, rowRanks,\n",
            "    rowSdDiffs, rowSds, rowSums2, rowTabulates, rowVarDiffs, rowVars,\n",
            "    rowWeightedMads, rowWeightedMeans, rowWeightedMedians,\n",
            "    rowWeightedSds, rowWeightedVars\n",
            "\n",
            "\n",
            "Loading required package: Biobase\n",
            "\n",
            "Welcome to Bioconductor\n",
            "\n",
            "    Vignettes contain introductory material; view with\n",
            "    'browseVignettes()'. To cite Bioconductor, see\n",
            "    'citation(\"Biobase\")', and for packages 'citation(\"pkgname\")'.\n",
            "\n",
            "\n",
            "\n",
            "Attaching package: ‘Biobase’\n",
            "\n",
            "\n",
            "The following object is masked from ‘package:MatrixGenerics’:\n",
            "\n",
            "    rowMedians\n",
            "\n",
            "\n",
            "The following objects are masked from ‘package:matrixStats’:\n",
            "\n",
            "    anyMissing, rowMedians\n",
            "\n",
            "\n",
            "Loading required package: grid\n",
            "\n",
            "========================================\n",
            "ComplexHeatmap version 2.20.0\n",
            "Bioconductor page: http://bioconductor.org/packages/ComplexHeatmap/\n",
            "Github page: https://github.com/jokergoo/ComplexHeatmap\n",
            "Documentation: http://jokergoo.github.io/ComplexHeatmap-reference\n",
            "\n",
            "If you use it in published research, please cite either one:\n",
            "- Gu, Z. Complex Heatmap Visualization. iMeta 2022.\n",
            "- Gu, Z. Complex heatmaps reveal patterns and correlations in multidimensional \n",
            "    genomic data. Bioinformatics 2016.\n",
            "\n",
            "\n",
            "The new InteractiveComplexHeatmap package can directly export static \n",
            "complex heatmaps into an interactive Shiny app with zero effort. Have a try!\n",
            "\n",
            "This message can be suppressed by:\n",
            "  suppressPackageStartupMessages(library(ComplexHeatmap))\n",
            "========================================\n",
            "\n",
            "\n"
          ]
        }
      ],
      "source": [
        "library(DESeq2)\n",
        "library(ComplexHeatmap)\n"
      ]
    },
    {
      "cell_type": "markdown",
      "metadata": {
        "id": "4t-d_zMuSHNJ"
      },
      "source": [
        "#Input Data"
      ]
    },
    {
      "cell_type": "code",
      "execution_count": null,
      "metadata": {
        "id": "LCBln93w_5Qd"
      },
      "outputs": [],
      "source": [
        "#Read in the raw read counts\n",
        "raw_counts <-\n",
        "  read.delim(file =\"https://raw.githubusercontent.com/skimlab/eleg6830/main/data/raw-counts.tsv\")\n",
        "\n",
        "#Read in the sample mappings\n",
        "sample_info <-\n",
        "  read.delim(file = \"https://raw.githubusercontent.com/skimlab/eleg6830/main/data/experiment-design.tsv\",\n",
        "            as.is = TRUE,\n",
        "            #prevent column names from being converted to \"standardized\" names\n",
        "            check.names = FALSE)\n"
      ]
    },
    {
      "cell_type": "code",
      "execution_count": null,
      "metadata": {
        "colab": {
          "base_uri": "https://localhost:8080/",
          "height": 1000
        },
        "id": "Ux1-pxKMBDIC",
        "outputId": "0b421200-3390-4d96-b7ed-a6752ac673eb"
      },
      "outputs": [
        {
          "output_type": "display_data",
          "data": {
            "text/html": [
              "<table class=\"dataframe\">\n",
              "<caption>A data.frame: 58735 × 56</caption>\n",
              "<thead>\n",
              "\t<tr><th scope=col>Gene.ID</th><th scope=col>Gene.Name</th><th scope=col>SRR975562</th><th scope=col>SRR975555</th><th scope=col>SRR975597</th><th scope=col>SRR975571</th><th scope=col>SRR975553</th><th scope=col>SRR975567</th><th scope=col>SRR975590</th><th scope=col>SRR975581</th><th scope=col>⋯</th><th scope=col>SRR975604</th><th scope=col>SRR975594</th><th scope=col>SRR975560</th><th scope=col>SRR975580</th><th scope=col>SRR975570</th><th scope=col>SRR975602</th><th scope=col>SRR975561</th><th scope=col>SRR975573</th><th scope=col>SRR975587</th><th scope=col>SRR975576</th></tr>\n",
              "\t<tr><th scope=col>&lt;chr&gt;</th><th scope=col>&lt;chr&gt;</th><th scope=col>&lt;int&gt;</th><th scope=col>&lt;int&gt;</th><th scope=col>&lt;int&gt;</th><th scope=col>&lt;int&gt;</th><th scope=col>&lt;int&gt;</th><th scope=col>&lt;int&gt;</th><th scope=col>&lt;int&gt;</th><th scope=col>&lt;int&gt;</th><th scope=col>⋯</th><th scope=col>&lt;int&gt;</th><th scope=col>&lt;int&gt;</th><th scope=col>&lt;int&gt;</th><th scope=col>&lt;int&gt;</th><th scope=col>&lt;int&gt;</th><th scope=col>&lt;int&gt;</th><th scope=col>&lt;int&gt;</th><th scope=col>&lt;int&gt;</th><th scope=col>&lt;int&gt;</th><th scope=col>&lt;int&gt;</th></tr>\n",
              "</thead>\n",
              "<tbody>\n",
              "\t<tr><td>ENSG00000000003</td><td>TSPAN6  </td><td>1990</td><td> 874</td><td>1011</td><td>1366</td><td> 867</td><td> 619</td><td>1800</td><td> 385</td><td>⋯</td><td>1144</td><td>  566</td><td>1065</td><td>1596</td><td> 394</td><td>1451</td><td> 804</td><td> 571</td><td>1825</td><td> 783</td></tr>\n",
              "\t<tr><td>ENSG00000000005</td><td>TNMD    </td><td>  12</td><td>   4</td><td>   6</td><td>  11</td><td>  12</td><td>   1</td><td>   3</td><td>   2</td><td>⋯</td><td>   3</td><td>    0</td><td>   3</td><td>  17</td><td>   1</td><td>   0</td><td>   4</td><td>  13</td><td>   2</td><td>   2</td></tr>\n",
              "\t<tr><td>ENSG00000000419</td><td>DPM1    </td><td> 681</td><td> 978</td><td> 610</td><td> 432</td><td> 293</td><td> 400</td><td> 560</td><td> 157</td><td>⋯</td><td> 689</td><td>  134</td><td> 384</td><td> 444</td><td> 157</td><td> 560</td><td> 301</td><td> 229</td><td> 717</td><td> 192</td></tr>\n",
              "\t<tr><td>ENSG00000000457</td><td>SCYL3   </td><td> 165</td><td> 221</td><td> 138</td><td> 309</td><td> 207</td><td> 248</td><td> 158</td><td> 146</td><td>⋯</td><td> 185</td><td>   89</td><td> 133</td><td> 178</td><td> 133</td><td>  85</td><td> 147</td><td> 182</td><td> 165</td><td> 146</td></tr>\n",
              "\t<tr><td>ENSG00000000460</td><td>C1orf112</td><td>  88</td><td> 109</td><td>  88</td><td>  42</td><td>  38</td><td> 108</td><td> 116</td><td>  27</td><td>⋯</td><td>  50</td><td>   25</td><td>  37</td><td>  66</td><td>  20</td><td>  84</td><td>  21</td><td>  37</td><td> 138</td><td>  19</td></tr>\n",
              "\t<tr><td>ENSG00000000938</td><td>FGR     </td><td>  60</td><td>  84</td><td>  81</td><td> 121</td><td>  89</td><td>  93</td><td>  66</td><td>  47</td><td>⋯</td><td> 378</td><td>   74</td><td>  66</td><td>  59</td><td>  23</td><td>  38</td><td>  54</td><td>  44</td><td> 124</td><td>  46</td></tr>\n",
              "\t<tr><td>ENSG00000000971</td><td>CFH     </td><td> 375</td><td> 201</td><td>1350</td><td>1615</td><td>1035</td><td> 589</td><td>1685</td><td> 935</td><td>⋯</td><td>6253</td><td>19581</td><td> 518</td><td> 268</td><td> 354</td><td>  65</td><td> 449</td><td> 640</td><td>7902</td><td> 471</td></tr>\n",
              "\t<tr><td>ENSG00000001036</td><td>FUCA2   </td><td> 955</td><td> 991</td><td> 276</td><td> 914</td><td> 623</td><td> 504</td><td> 633</td><td> 451</td><td>⋯</td><td> 836</td><td>  344</td><td> 709</td><td>1063</td><td> 353</td><td> 509</td><td> 317</td><td> 438</td><td> 887</td><td> 484</td></tr>\n",
              "\t<tr><td>ENSG00000001084</td><td>GCLC    </td><td> 435</td><td> 693</td><td> 551</td><td> 650</td><td> 421</td><td> 645</td><td> 837</td><td> 339</td><td>⋯</td><td> 812</td><td>  785</td><td> 366</td><td> 406</td><td> 255</td><td> 424</td><td> 308</td><td> 430</td><td> 992</td><td> 280</td></tr>\n",
              "\t<tr><td>ENSG00000001167</td><td>NFYA    </td><td> 420</td><td> 539</td><td> 342</td><td> 464</td><td> 273</td><td> 983</td><td> 503</td><td> 229</td><td>⋯</td><td> 404</td><td>  196</td><td> 275</td><td> 339</td><td> 164</td><td> 225</td><td> 145</td><td> 256</td><td> 423</td><td> 211</td></tr>\n",
              "\t<tr><td>ENSG00000001460</td><td>STPG1   </td><td> 113</td><td> 176</td><td>  90</td><td> 229</td><td> 138</td><td> 114</td><td>  51</td><td>  73</td><td>⋯</td><td>  31</td><td>   17</td><td> 157</td><td> 192</td><td> 105</td><td>  98</td><td> 122</td><td> 183</td><td>  67</td><td> 106</td></tr>\n",
              "\t<tr><td>ENSG00000001461</td><td>NIPAL3  </td><td> 314</td><td> 983</td><td> 465</td><td> 655</td><td> 419</td><td> 447</td><td> 288</td><td> 491</td><td>⋯</td><td> 316</td><td>   86</td><td> 419</td><td> 629</td><td> 341</td><td> 363</td><td> 475</td><td> 629</td><td> 368</td><td> 387</td></tr>\n",
              "\t<tr><td>ENSG00000001497</td><td>LAS1L   </td><td> 764</td><td> 589</td><td> 433</td><td> 508</td><td> 328</td><td> 391</td><td> 543</td><td> 241</td><td>⋯</td><td> 617</td><td>  196</td><td> 452</td><td> 677</td><td> 160</td><td> 663</td><td> 230</td><td> 269</td><td> 747</td><td> 295</td></tr>\n",
              "\t<tr><td>ENSG00000001561</td><td>ENPP4   </td><td> 325</td><td> 458</td><td> 193</td><td> 621</td><td> 377</td><td> 407</td><td> 256</td><td> 217</td><td>⋯</td><td> 342</td><td>   90</td><td> 260</td><td> 321</td><td> 206</td><td> 211</td><td> 293</td><td> 254</td><td> 264</td><td> 229</td></tr>\n",
              "\t<tr><td>ENSG00000001617</td><td>SEMA3F  </td><td> 467</td><td> 571</td><td> 696</td><td> 218</td><td> 164</td><td> 377</td><td> 119</td><td> 260</td><td>⋯</td><td> 282</td><td>   47</td><td> 411</td><td> 359</td><td>  89</td><td> 420</td><td> 266</td><td>  94</td><td> 122</td><td> 198</td></tr>\n",
              "\t<tr><td>ENSG00000001626</td><td>CFTR    </td><td> 716</td><td>3752</td><td>1878</td><td>2987</td><td>1993</td><td>1549</td><td> 316</td><td>1546</td><td>⋯</td><td>3812</td><td>  436</td><td> 898</td><td>1430</td><td>1518</td><td>2474</td><td>1263</td><td>1724</td><td>3423</td><td>2011</td></tr>\n",
              "\t<tr><td>ENSG00000001629</td><td>ANKIB1  </td><td> 356</td><td> 840</td><td> 347</td><td> 787</td><td> 483</td><td> 530</td><td> 449</td><td> 328</td><td>⋯</td><td> 592</td><td>  176</td><td> 330</td><td> 354</td><td> 292</td><td> 404</td><td> 325</td><td> 423</td><td> 708</td><td> 373</td></tr>\n",
              "\t<tr><td>ENSG00000001630</td><td>CYP51A1 </td><td> 129</td><td> 171</td><td> 120</td><td>  84</td><td>  61</td><td>  46</td><td>  73</td><td>  64</td><td>⋯</td><td> 126</td><td>   99</td><td>  58</td><td>  98</td><td>  20</td><td> 163</td><td>  60</td><td>  48</td><td>  54</td><td>  57</td></tr>\n",
              "\t<tr><td>ENSG00000001631</td><td>KRIT1   </td><td>  95</td><td> 112</td><td> 103</td><td> 105</td><td>  66</td><td>  74</td><td> 111</td><td>  52</td><td>⋯</td><td> 107</td><td>   42</td><td>  49</td><td>  73</td><td>  39</td><td>  93</td><td>  75</td><td>  61</td><td> 151</td><td>  77</td></tr>\n",
              "\t<tr><td>ENSG00000002016</td><td>RAD52   </td><td>  95</td><td> 136</td><td> 102</td><td> 246</td><td> 173</td><td> 107</td><td>  97</td><td> 139</td><td>⋯</td><td> 111</td><td>   30</td><td>  89</td><td> 154</td><td>  94</td><td>  82</td><td>  77</td><td> 166</td><td> 171</td><td> 152</td></tr>\n",
              "\t<tr><td>ENSG00000002079</td><td>MYH16   </td><td>   4</td><td>   3</td><td>   1</td><td>   0</td><td>   2</td><td>   2</td><td>   0</td><td>   2</td><td>⋯</td><td>  10</td><td>    1</td><td>   1</td><td>   3</td><td>   0</td><td>   1</td><td>   2</td><td>   0</td><td>   3</td><td>   1</td></tr>\n",
              "\t<tr><td>ENSG00000002330</td><td>BAD     </td><td> 154</td><td> 210</td><td> 126</td><td> 249</td><td> 166</td><td> 168</td><td>  68</td><td> 199</td><td>⋯</td><td> 137</td><td>   64</td><td> 346</td><td> 340</td><td> 104</td><td> 106</td><td> 212</td><td> 170</td><td> 122</td><td> 193</td></tr>\n",
              "\t<tr><td>ENSG00000002549</td><td>LAP3    </td><td> 733</td><td>2057</td><td>1124</td><td>1973</td><td>1275</td><td>1203</td><td> 913</td><td> 644</td><td>⋯</td><td>1507</td><td> 1393</td><td> 810</td><td> 936</td><td> 482</td><td>1109</td><td> 627</td><td> 860</td><td>1748</td><td> 635</td></tr>\n",
              "\t<tr><td>ENSG00000002586</td><td>CD99    </td><td>1778</td><td>1027</td><td>1221</td><td>1611</td><td> 920</td><td>1368</td><td>1288</td><td>1087</td><td>⋯</td><td>1389</td><td>  810</td><td>1563</td><td>1932</td><td> 598</td><td>1079</td><td>1165</td><td>1098</td><td>1797</td><td>1033</td></tr>\n",
              "\t<tr><td>ENSG00000002587</td><td>HS3ST1  </td><td>  50</td><td> 103</td><td>  69</td><td> 144</td><td>  73</td><td>  94</td><td>  96</td><td>  77</td><td>⋯</td><td>  56</td><td>   33</td><td>  91</td><td>  72</td><td>  44</td><td> 109</td><td>  71</td><td>  61</td><td>  40</td><td>  62</td></tr>\n",
              "\t<tr><td>ENSG00000002726</td><td>AOC1    </td><td>1757</td><td>1803</td><td> 758</td><td>5649</td><td>3729</td><td>1685</td><td> 481</td><td>2989</td><td>⋯</td><td>1240</td><td>   10</td><td>4201</td><td>4448</td><td>1797</td><td> 786</td><td>2624</td><td>3317</td><td> 654</td><td>2665</td></tr>\n",
              "\t<tr><td>ENSG00000002745</td><td>WNT16   </td><td>   0</td><td>   0</td><td>   0</td><td>   3</td><td>   1</td><td>   2</td><td>   0</td><td>   2</td><td>⋯</td><td>   0</td><td>    0</td><td>   1</td><td>   0</td><td>   1</td><td>   2</td><td>   2</td><td>   1</td><td>   1</td><td>   1</td></tr>\n",
              "\t<tr><td>ENSG00000002746</td><td>HECW1   </td><td>  18</td><td>   6</td><td>   1</td><td>   3</td><td>   2</td><td>  17</td><td>   0</td><td>   5</td><td>⋯</td><td>   7</td><td>    2</td><td>   7</td><td>   6</td><td>   0</td><td>   1</td><td>   4</td><td>   4</td><td>   2</td><td>   0</td></tr>\n",
              "\t<tr><td>ENSG00000002822</td><td>MAD1L1  </td><td> 253</td><td> 289</td><td> 186</td><td> 265</td><td> 153</td><td> 269</td><td> 201</td><td> 130</td><td>⋯</td><td> 339</td><td>  135</td><td> 267</td><td> 278</td><td>  89</td><td> 158</td><td> 139</td><td> 131</td><td> 314</td><td> 125</td></tr>\n",
              "\t<tr><td>ENSG00000002834</td><td>LASP1   </td><td>3529</td><td>5377</td><td>3333</td><td>5089</td><td>3520</td><td>4239</td><td>2428</td><td>3130</td><td>⋯</td><td>3696</td><td> 1382</td><td>4746</td><td>5575</td><td>2097</td><td>1602</td><td>3095</td><td>4155</td><td>4156</td><td>2829</td></tr>\n",
              "\t<tr><td>⋮</td><td>⋮</td><td>⋮</td><td>⋮</td><td>⋮</td><td>⋮</td><td>⋮</td><td>⋮</td><td>⋮</td><td>⋮</td><td>⋱</td><td>⋮</td><td>⋮</td><td>⋮</td><td>⋮</td><td>⋮</td><td>⋮</td><td>⋮</td><td>⋮</td><td>⋮</td><td>⋮</td></tr>\n",
              "\t<tr><td>ENSG00000285963</td><td>         </td><td> 1</td><td>  0</td><td>  0</td><td>  0</td><td>  0</td><td>  0</td><td>  0</td><td>  0</td><td>⋯</td><td>  0</td><td>  0</td><td>  0</td><td>  0</td><td>  0</td><td> 0</td><td>  0</td><td>  0</td><td>  2</td><td> 0</td></tr>\n",
              "\t<tr><td>ENSG00000285964</td><td>         </td><td> 0</td><td>  0</td><td>  0</td><td>  0</td><td>  0</td><td>  0</td><td>  0</td><td>  0</td><td>⋯</td><td>  0</td><td>  0</td><td>  0</td><td>  0</td><td>  0</td><td> 0</td><td>  0</td><td>  0</td><td>  0</td><td> 0</td></tr>\n",
              "\t<tr><td>ENSG00000285966</td><td>         </td><td> 0</td><td>  0</td><td>  0</td><td>  0</td><td>  0</td><td>  0</td><td>  1</td><td>  0</td><td>⋯</td><td>  0</td><td>  1</td><td>  0</td><td>  0</td><td>  0</td><td> 0</td><td>  0</td><td>  0</td><td>  0</td><td> 0</td></tr>\n",
              "\t<tr><td>ENSG00000285967</td><td>NIPBL-DT </td><td>54</td><td> 55</td><td> 64</td><td> 86</td><td> 50</td><td> 52</td><td>145</td><td> 72</td><td>⋯</td><td> 47</td><td> 20</td><td> 44</td><td> 51</td><td> 35</td><td>60</td><td> 48</td><td> 58</td><td> 74</td><td>53</td></tr>\n",
              "\t<tr><td>ENSG00000285968</td><td>         </td><td> 0</td><td>  0</td><td>  0</td><td>  0</td><td>  0</td><td>  0</td><td>  0</td><td>  0</td><td>⋯</td><td>  0</td><td>  0</td><td>  0</td><td>  0</td><td>  0</td><td> 0</td><td>  0</td><td>  0</td><td>  0</td><td> 0</td></tr>\n",
              "\t<tr><td>ENSG00000285969</td><td>         </td><td> 0</td><td>  0</td><td>  0</td><td>  0</td><td>  0</td><td>  1</td><td>  0</td><td>  0</td><td>⋯</td><td>  0</td><td>  0</td><td>  0</td><td>  0</td><td>  0</td><td> 1</td><td>  0</td><td>  0</td><td>  0</td><td> 0</td></tr>\n",
              "\t<tr><td>ENSG00000285970</td><td>         </td><td> 0</td><td>  0</td><td>  0</td><td>  0</td><td>  0</td><td>  0</td><td>  0</td><td>  0</td><td>⋯</td><td>  0</td><td>  0</td><td>  0</td><td>  0</td><td>  0</td><td> 0</td><td>  0</td><td>  0</td><td>  0</td><td> 0</td></tr>\n",
              "\t<tr><td>ENSG00000285971</td><td>         </td><td> 0</td><td>  0</td><td>  0</td><td>  0</td><td>  1</td><td>  0</td><td>  0</td><td>  0</td><td>⋯</td><td>  0</td><td>  0</td><td>  0</td><td>  0</td><td>  0</td><td> 0</td><td>  0</td><td>  0</td><td>  0</td><td> 0</td></tr>\n",
              "\t<tr><td>ENSG00000285972</td><td>CERNA2   </td><td> 4</td><td>106</td><td>  2</td><td> 19</td><td> 10</td><td>  1</td><td>  0</td><td>  1</td><td>⋯</td><td>  2</td><td>  0</td><td> 14</td><td>  6</td><td>  0</td><td> 6</td><td>  2</td><td>  2</td><td>  4</td><td> 2</td></tr>\n",
              "\t<tr><td>ENSG00000285973</td><td>         </td><td> 1</td><td>  0</td><td>  0</td><td>  2</td><td>  0</td><td>  0</td><td>  0</td><td>  0</td><td>⋯</td><td>  0</td><td>  3</td><td>  0</td><td>  1</td><td>  1</td><td> 1</td><td>  0</td><td>  0</td><td>  0</td><td> 0</td></tr>\n",
              "\t<tr><td>ENSG00000285974</td><td>         </td><td> 0</td><td>  0</td><td>  1</td><td>  0</td><td>  0</td><td>  0</td><td>  0</td><td>  0</td><td>⋯</td><td>  0</td><td>  0</td><td>  0</td><td>  0</td><td>  0</td><td> 1</td><td>  0</td><td>  0</td><td>  0</td><td> 0</td></tr>\n",
              "\t<tr><td>ENSG00000285975</td><td>FAM90A7P </td><td> 0</td><td>  0</td><td>  0</td><td>  0</td><td>  0</td><td>  0</td><td>  0</td><td>  0</td><td>⋯</td><td>  0</td><td>  0</td><td>  0</td><td>  0</td><td>  0</td><td> 0</td><td>  0</td><td>  0</td><td>  0</td><td> 0</td></tr>\n",
              "\t<tr><td>ENSG00000285976</td><td>         </td><td>80</td><td>132</td><td>100</td><td>259</td><td>124</td><td>165</td><td>102</td><td>162</td><td>⋯</td><td>280</td><td>176</td><td>143</td><td>214</td><td>107</td><td>97</td><td>143</td><td>134</td><td>172</td><td>87</td></tr>\n",
              "\t<tr><td>ENSG00000285977</td><td>         </td><td> 0</td><td>  0</td><td>  0</td><td>  0</td><td>  0</td><td>  0</td><td>  0</td><td>  0</td><td>⋯</td><td>  0</td><td>  0</td><td>  0</td><td>  0</td><td>  0</td><td> 0</td><td>  0</td><td>  0</td><td>  0</td><td> 0</td></tr>\n",
              "\t<tr><td>ENSG00000285978</td><td>         </td><td> 0</td><td>  0</td><td>  0</td><td>  0</td><td>  0</td><td>  1</td><td>  0</td><td>  0</td><td>⋯</td><td>  0</td><td>  0</td><td>  0</td><td>  0</td><td>  0</td><td> 0</td><td>  0</td><td>  0</td><td>  0</td><td> 0</td></tr>\n",
              "\t<tr><td>ENSG00000285979</td><td>         </td><td>12</td><td> 39</td><td> 23</td><td> 47</td><td> 11</td><td> 18</td><td> 15</td><td> 13</td><td>⋯</td><td> 18</td><td>  4</td><td> 16</td><td> 18</td><td>  9</td><td>24</td><td>  7</td><td> 21</td><td> 41</td><td>18</td></tr>\n",
              "\t<tr><td>ENSG00000285980</td><td>         </td><td> 0</td><td>  0</td><td>  0</td><td>  0</td><td>  0</td><td>  0</td><td>  0</td><td>  0</td><td>⋯</td><td>  0</td><td>  0</td><td>  0</td><td>  0</td><td>  0</td><td> 0</td><td>  0</td><td>  0</td><td>  0</td><td> 0</td></tr>\n",
              "\t<tr><td>ENSG00000285981</td><td>         </td><td> 0</td><td>  0</td><td>  0</td><td>  0</td><td>  0</td><td>  0</td><td>  0</td><td>  0</td><td>⋯</td><td>  0</td><td>  0</td><td>  0</td><td>  0</td><td>  0</td><td> 0</td><td>  0</td><td>  0</td><td>  0</td><td> 0</td></tr>\n",
              "\t<tr><td>ENSG00000285982</td><td>         </td><td> 0</td><td>  0</td><td>  0</td><td>  0</td><td>  0</td><td>  0</td><td>  0</td><td>  0</td><td>⋯</td><td>  0</td><td>  0</td><td>  0</td><td>  0</td><td>  0</td><td> 0</td><td>  0</td><td>  0</td><td>  0</td><td> 0</td></tr>\n",
              "\t<tr><td>ENSG00000285984</td><td>         </td><td> 0</td><td>  1</td><td>  0</td><td>  0</td><td>  0</td><td>  0</td><td>  0</td><td>  0</td><td>⋯</td><td>  0</td><td>  0</td><td>  0</td><td>  0</td><td>  0</td><td> 0</td><td>  0</td><td>  0</td><td>  0</td><td> 0</td></tr>\n",
              "\t<tr><td>ENSG00000285985</td><td>LINC02689</td><td> 0</td><td>  0</td><td>  0</td><td>  0</td><td>  0</td><td>  0</td><td>  0</td><td>  0</td><td>⋯</td><td>  0</td><td>  0</td><td>  0</td><td>  0</td><td>  0</td><td> 0</td><td>  0</td><td>  0</td><td>  0</td><td> 0</td></tr>\n",
              "\t<tr><td>ENSG00000285986</td><td>         </td><td> 0</td><td>  0</td><td>  0</td><td>  0</td><td>  0</td><td>  0</td><td>  0</td><td>  0</td><td>⋯</td><td>  0</td><td>  0</td><td>  0</td><td>  0</td><td>  0</td><td> 0</td><td>  0</td><td>  0</td><td>  0</td><td> 0</td></tr>\n",
              "\t<tr><td>ENSG00000285987</td><td>         </td><td> 0</td><td>  0</td><td>  0</td><td>  0</td><td>  0</td><td>  0</td><td>  0</td><td>  0</td><td>⋯</td><td>  0</td><td>  0</td><td>  0</td><td>  0</td><td>  0</td><td> 0</td><td>  0</td><td>  0</td><td>  0</td><td> 0</td></tr>\n",
              "\t<tr><td>ENSG00000285988</td><td>         </td><td> 0</td><td>  0</td><td>  0</td><td>  0</td><td>  0</td><td>  0</td><td>  0</td><td>  0</td><td>⋯</td><td>  0</td><td>  0</td><td>  0</td><td>  0</td><td>  0</td><td> 0</td><td>  0</td><td>  0</td><td>  0</td><td> 0</td></tr>\n",
              "\t<tr><td>ENSG00000285989</td><td>H2AQ1P   </td><td> 0</td><td>  0</td><td>  0</td><td>  0</td><td>  0</td><td>  0</td><td>  0</td><td>  0</td><td>⋯</td><td>  0</td><td>  0</td><td>  0</td><td>  0</td><td>  0</td><td> 0</td><td>  0</td><td>  0</td><td>  0</td><td> 0</td></tr>\n",
              "\t<tr><td>ENSG00000285990</td><td>NBEAP6   </td><td> 0</td><td>  0</td><td>  0</td><td>  0</td><td>  0</td><td>  0</td><td>  0</td><td>  0</td><td>⋯</td><td>  0</td><td>  0</td><td>  0</td><td>  0</td><td>  0</td><td> 0</td><td>  0</td><td>  0</td><td>  0</td><td> 0</td></tr>\n",
              "\t<tr><td>ENSG00000285991</td><td>         </td><td> 2</td><td>  0</td><td>  0</td><td>  3</td><td>  0</td><td>  1</td><td>  4</td><td>  0</td><td>⋯</td><td>  0</td><td>  1</td><td>  3</td><td>  3</td><td>  1</td><td> 1</td><td>  2</td><td>  2</td><td>  2</td><td> 2</td></tr>\n",
              "\t<tr><td>ENSG00000285992</td><td>         </td><td> 0</td><td>  0</td><td>  0</td><td>  0</td><td>  0</td><td>  0</td><td>  0</td><td>  0</td><td>⋯</td><td>  0</td><td>  0</td><td>  0</td><td>  0</td><td>  0</td><td> 0</td><td>  0</td><td>  0</td><td>  0</td><td> 0</td></tr>\n",
              "\t<tr><td>ENSG00000285993</td><td>         </td><td> 0</td><td>  0</td><td>  1</td><td>  0</td><td>  0</td><td>  0</td><td>  0</td><td>  0</td><td>⋯</td><td>  0</td><td>  0</td><td>  0</td><td>  0</td><td>  0</td><td> 0</td><td>  0</td><td>  0</td><td>  0</td><td> 0</td></tr>\n",
              "\t<tr><td>ENSG00000285994</td><td>         </td><td> 0</td><td>  2</td><td>  2</td><td>  1</td><td>  0</td><td>  0</td><td>  0</td><td>  0</td><td>⋯</td><td>  0</td><td>  0</td><td>  0</td><td>  0</td><td>  0</td><td> 0</td><td>  0</td><td>  0</td><td>  0</td><td> 0</td></tr>\n",
              "</tbody>\n",
              "</table>\n"
            ],
            "text/markdown": "\nA data.frame: 58735 × 56\n\n| Gene.ID &lt;chr&gt; | Gene.Name &lt;chr&gt; | SRR975562 &lt;int&gt; | SRR975555 &lt;int&gt; | SRR975597 &lt;int&gt; | SRR975571 &lt;int&gt; | SRR975553 &lt;int&gt; | SRR975567 &lt;int&gt; | SRR975590 &lt;int&gt; | SRR975581 &lt;int&gt; | ⋯ ⋯ | SRR975604 &lt;int&gt; | SRR975594 &lt;int&gt; | SRR975560 &lt;int&gt; | SRR975580 &lt;int&gt; | SRR975570 &lt;int&gt; | SRR975602 &lt;int&gt; | SRR975561 &lt;int&gt; | SRR975573 &lt;int&gt; | SRR975587 &lt;int&gt; | SRR975576 &lt;int&gt; |\n|---|---|---|---|---|---|---|---|---|---|---|---|---|---|---|---|---|---|---|---|---|\n| ENSG00000000003 | TSPAN6   | 1990 |  874 | 1011 | 1366 |  867 |  619 | 1800 |  385 | ⋯ | 1144 |   566 | 1065 | 1596 |  394 | 1451 |  804 |  571 | 1825 |  783 |\n| ENSG00000000005 | TNMD     |   12 |    4 |    6 |   11 |   12 |    1 |    3 |    2 | ⋯ |    3 |     0 |    3 |   17 |    1 |    0 |    4 |   13 |    2 |    2 |\n| ENSG00000000419 | DPM1     |  681 |  978 |  610 |  432 |  293 |  400 |  560 |  157 | ⋯ |  689 |   134 |  384 |  444 |  157 |  560 |  301 |  229 |  717 |  192 |\n| ENSG00000000457 | SCYL3    |  165 |  221 |  138 |  309 |  207 |  248 |  158 |  146 | ⋯ |  185 |    89 |  133 |  178 |  133 |   85 |  147 |  182 |  165 |  146 |\n| ENSG00000000460 | C1orf112 |   88 |  109 |   88 |   42 |   38 |  108 |  116 |   27 | ⋯ |   50 |    25 |   37 |   66 |   20 |   84 |   21 |   37 |  138 |   19 |\n| ENSG00000000938 | FGR      |   60 |   84 |   81 |  121 |   89 |   93 |   66 |   47 | ⋯ |  378 |    74 |   66 |   59 |   23 |   38 |   54 |   44 |  124 |   46 |\n| ENSG00000000971 | CFH      |  375 |  201 | 1350 | 1615 | 1035 |  589 | 1685 |  935 | ⋯ | 6253 | 19581 |  518 |  268 |  354 |   65 |  449 |  640 | 7902 |  471 |\n| ENSG00000001036 | FUCA2    |  955 |  991 |  276 |  914 |  623 |  504 |  633 |  451 | ⋯ |  836 |   344 |  709 | 1063 |  353 |  509 |  317 |  438 |  887 |  484 |\n| ENSG00000001084 | GCLC     |  435 |  693 |  551 |  650 |  421 |  645 |  837 |  339 | ⋯ |  812 |   785 |  366 |  406 |  255 |  424 |  308 |  430 |  992 |  280 |\n| ENSG00000001167 | NFYA     |  420 |  539 |  342 |  464 |  273 |  983 |  503 |  229 | ⋯ |  404 |   196 |  275 |  339 |  164 |  225 |  145 |  256 |  423 |  211 |\n| ENSG00000001460 | STPG1    |  113 |  176 |   90 |  229 |  138 |  114 |   51 |   73 | ⋯ |   31 |    17 |  157 |  192 |  105 |   98 |  122 |  183 |   67 |  106 |\n| ENSG00000001461 | NIPAL3   |  314 |  983 |  465 |  655 |  419 |  447 |  288 |  491 | ⋯ |  316 |    86 |  419 |  629 |  341 |  363 |  475 |  629 |  368 |  387 |\n| ENSG00000001497 | LAS1L    |  764 |  589 |  433 |  508 |  328 |  391 |  543 |  241 | ⋯ |  617 |   196 |  452 |  677 |  160 |  663 |  230 |  269 |  747 |  295 |\n| ENSG00000001561 | ENPP4    |  325 |  458 |  193 |  621 |  377 |  407 |  256 |  217 | ⋯ |  342 |    90 |  260 |  321 |  206 |  211 |  293 |  254 |  264 |  229 |\n| ENSG00000001617 | SEMA3F   |  467 |  571 |  696 |  218 |  164 |  377 |  119 |  260 | ⋯ |  282 |    47 |  411 |  359 |   89 |  420 |  266 |   94 |  122 |  198 |\n| ENSG00000001626 | CFTR     |  716 | 3752 | 1878 | 2987 | 1993 | 1549 |  316 | 1546 | ⋯ | 3812 |   436 |  898 | 1430 | 1518 | 2474 | 1263 | 1724 | 3423 | 2011 |\n| ENSG00000001629 | ANKIB1   |  356 |  840 |  347 |  787 |  483 |  530 |  449 |  328 | ⋯ |  592 |   176 |  330 |  354 |  292 |  404 |  325 |  423 |  708 |  373 |\n| ENSG00000001630 | CYP51A1  |  129 |  171 |  120 |   84 |   61 |   46 |   73 |   64 | ⋯ |  126 |    99 |   58 |   98 |   20 |  163 |   60 |   48 |   54 |   57 |\n| ENSG00000001631 | KRIT1    |   95 |  112 |  103 |  105 |   66 |   74 |  111 |   52 | ⋯ |  107 |    42 |   49 |   73 |   39 |   93 |   75 |   61 |  151 |   77 |\n| ENSG00000002016 | RAD52    |   95 |  136 |  102 |  246 |  173 |  107 |   97 |  139 | ⋯ |  111 |    30 |   89 |  154 |   94 |   82 |   77 |  166 |  171 |  152 |\n| ENSG00000002079 | MYH16    |    4 |    3 |    1 |    0 |    2 |    2 |    0 |    2 | ⋯ |   10 |     1 |    1 |    3 |    0 |    1 |    2 |    0 |    3 |    1 |\n| ENSG00000002330 | BAD      |  154 |  210 |  126 |  249 |  166 |  168 |   68 |  199 | ⋯ |  137 |    64 |  346 |  340 |  104 |  106 |  212 |  170 |  122 |  193 |\n| ENSG00000002549 | LAP3     |  733 | 2057 | 1124 | 1973 | 1275 | 1203 |  913 |  644 | ⋯ | 1507 |  1393 |  810 |  936 |  482 | 1109 |  627 |  860 | 1748 |  635 |\n| ENSG00000002586 | CD99     | 1778 | 1027 | 1221 | 1611 |  920 | 1368 | 1288 | 1087 | ⋯ | 1389 |   810 | 1563 | 1932 |  598 | 1079 | 1165 | 1098 | 1797 | 1033 |\n| ENSG00000002587 | HS3ST1   |   50 |  103 |   69 |  144 |   73 |   94 |   96 |   77 | ⋯ |   56 |    33 |   91 |   72 |   44 |  109 |   71 |   61 |   40 |   62 |\n| ENSG00000002726 | AOC1     | 1757 | 1803 |  758 | 5649 | 3729 | 1685 |  481 | 2989 | ⋯ | 1240 |    10 | 4201 | 4448 | 1797 |  786 | 2624 | 3317 |  654 | 2665 |\n| ENSG00000002745 | WNT16    |    0 |    0 |    0 |    3 |    1 |    2 |    0 |    2 | ⋯ |    0 |     0 |    1 |    0 |    1 |    2 |    2 |    1 |    1 |    1 |\n| ENSG00000002746 | HECW1    |   18 |    6 |    1 |    3 |    2 |   17 |    0 |    5 | ⋯ |    7 |     2 |    7 |    6 |    0 |    1 |    4 |    4 |    2 |    0 |\n| ENSG00000002822 | MAD1L1   |  253 |  289 |  186 |  265 |  153 |  269 |  201 |  130 | ⋯ |  339 |   135 |  267 |  278 |   89 |  158 |  139 |  131 |  314 |  125 |\n| ENSG00000002834 | LASP1    | 3529 | 5377 | 3333 | 5089 | 3520 | 4239 | 2428 | 3130 | ⋯ | 3696 |  1382 | 4746 | 5575 | 2097 | 1602 | 3095 | 4155 | 4156 | 2829 |\n| ⋮ | ⋮ | ⋮ | ⋮ | ⋮ | ⋮ | ⋮ | ⋮ | ⋮ | ⋮ | ⋱ | ⋮ | ⋮ | ⋮ | ⋮ | ⋮ | ⋮ | ⋮ | ⋮ | ⋮ | ⋮ |\n| ENSG00000285963 | <!----> |  1 |   0 |   0 |   0 |   0 |   0 |   0 |   0 | ⋯ |   0 |   0 |   0 |   0 |   0 |  0 |   0 |   0 |   2 |  0 |\n| ENSG00000285964 | <!----> |  0 |   0 |   0 |   0 |   0 |   0 |   0 |   0 | ⋯ |   0 |   0 |   0 |   0 |   0 |  0 |   0 |   0 |   0 |  0 |\n| ENSG00000285966 | <!----> |  0 |   0 |   0 |   0 |   0 |   0 |   1 |   0 | ⋯ |   0 |   1 |   0 |   0 |   0 |  0 |   0 |   0 |   0 |  0 |\n| ENSG00000285967 | NIPBL-DT  | 54 |  55 |  64 |  86 |  50 |  52 | 145 |  72 | ⋯ |  47 |  20 |  44 |  51 |  35 | 60 |  48 |  58 |  74 | 53 |\n| ENSG00000285968 | <!----> |  0 |   0 |   0 |   0 |   0 |   0 |   0 |   0 | ⋯ |   0 |   0 |   0 |   0 |   0 |  0 |   0 |   0 |   0 |  0 |\n| ENSG00000285969 | <!----> |  0 |   0 |   0 |   0 |   0 |   1 |   0 |   0 | ⋯ |   0 |   0 |   0 |   0 |   0 |  1 |   0 |   0 |   0 |  0 |\n| ENSG00000285970 | <!----> |  0 |   0 |   0 |   0 |   0 |   0 |   0 |   0 | ⋯ |   0 |   0 |   0 |   0 |   0 |  0 |   0 |   0 |   0 |  0 |\n| ENSG00000285971 | <!----> |  0 |   0 |   0 |   0 |   1 |   0 |   0 |   0 | ⋯ |   0 |   0 |   0 |   0 |   0 |  0 |   0 |   0 |   0 |  0 |\n| ENSG00000285972 | CERNA2    |  4 | 106 |   2 |  19 |  10 |   1 |   0 |   1 | ⋯ |   2 |   0 |  14 |   6 |   0 |  6 |   2 |   2 |   4 |  2 |\n| ENSG00000285973 | <!----> |  1 |   0 |   0 |   2 |   0 |   0 |   0 |   0 | ⋯ |   0 |   3 |   0 |   1 |   1 |  1 |   0 |   0 |   0 |  0 |\n| ENSG00000285974 | <!----> |  0 |   0 |   1 |   0 |   0 |   0 |   0 |   0 | ⋯ |   0 |   0 |   0 |   0 |   0 |  1 |   0 |   0 |   0 |  0 |\n| ENSG00000285975 | FAM90A7P  |  0 |   0 |   0 |   0 |   0 |   0 |   0 |   0 | ⋯ |   0 |   0 |   0 |   0 |   0 |  0 |   0 |   0 |   0 |  0 |\n| ENSG00000285976 | <!----> | 80 | 132 | 100 | 259 | 124 | 165 | 102 | 162 | ⋯ | 280 | 176 | 143 | 214 | 107 | 97 | 143 | 134 | 172 | 87 |\n| ENSG00000285977 | <!----> |  0 |   0 |   0 |   0 |   0 |   0 |   0 |   0 | ⋯ |   0 |   0 |   0 |   0 |   0 |  0 |   0 |   0 |   0 |  0 |\n| ENSG00000285978 | <!----> |  0 |   0 |   0 |   0 |   0 |   1 |   0 |   0 | ⋯ |   0 |   0 |   0 |   0 |   0 |  0 |   0 |   0 |   0 |  0 |\n| ENSG00000285979 | <!----> | 12 |  39 |  23 |  47 |  11 |  18 |  15 |  13 | ⋯ |  18 |   4 |  16 |  18 |   9 | 24 |   7 |  21 |  41 | 18 |\n| ENSG00000285980 | <!----> |  0 |   0 |   0 |   0 |   0 |   0 |   0 |   0 | ⋯ |   0 |   0 |   0 |   0 |   0 |  0 |   0 |   0 |   0 |  0 |\n| ENSG00000285981 | <!----> |  0 |   0 |   0 |   0 |   0 |   0 |   0 |   0 | ⋯ |   0 |   0 |   0 |   0 |   0 |  0 |   0 |   0 |   0 |  0 |\n| ENSG00000285982 | <!----> |  0 |   0 |   0 |   0 |   0 |   0 |   0 |   0 | ⋯ |   0 |   0 |   0 |   0 |   0 |  0 |   0 |   0 |   0 |  0 |\n| ENSG00000285984 | <!----> |  0 |   1 |   0 |   0 |   0 |   0 |   0 |   0 | ⋯ |   0 |   0 |   0 |   0 |   0 |  0 |   0 |   0 |   0 |  0 |\n| ENSG00000285985 | LINC02689 |  0 |   0 |   0 |   0 |   0 |   0 |   0 |   0 | ⋯ |   0 |   0 |   0 |   0 |   0 |  0 |   0 |   0 |   0 |  0 |\n| ENSG00000285986 | <!----> |  0 |   0 |   0 |   0 |   0 |   0 |   0 |   0 | ⋯ |   0 |   0 |   0 |   0 |   0 |  0 |   0 |   0 |   0 |  0 |\n| ENSG00000285987 | <!----> |  0 |   0 |   0 |   0 |   0 |   0 |   0 |   0 | ⋯ |   0 |   0 |   0 |   0 |   0 |  0 |   0 |   0 |   0 |  0 |\n| ENSG00000285988 | <!----> |  0 |   0 |   0 |   0 |   0 |   0 |   0 |   0 | ⋯ |   0 |   0 |   0 |   0 |   0 |  0 |   0 |   0 |   0 |  0 |\n| ENSG00000285989 | H2AQ1P    |  0 |   0 |   0 |   0 |   0 |   0 |   0 |   0 | ⋯ |   0 |   0 |   0 |   0 |   0 |  0 |   0 |   0 |   0 |  0 |\n| ENSG00000285990 | NBEAP6    |  0 |   0 |   0 |   0 |   0 |   0 |   0 |   0 | ⋯ |   0 |   0 |   0 |   0 |   0 |  0 |   0 |   0 |   0 |  0 |\n| ENSG00000285991 | <!----> |  2 |   0 |   0 |   3 |   0 |   1 |   4 |   0 | ⋯ |   0 |   1 |   3 |   3 |   1 |  1 |   2 |   2 |   2 |  2 |\n| ENSG00000285992 | <!----> |  0 |   0 |   0 |   0 |   0 |   0 |   0 |   0 | ⋯ |   0 |   0 |   0 |   0 |   0 |  0 |   0 |   0 |   0 |  0 |\n| ENSG00000285993 | <!----> |  0 |   0 |   1 |   0 |   0 |   0 |   0 |   0 | ⋯ |   0 |   0 |   0 |   0 |   0 |  0 |   0 |   0 |   0 |  0 |\n| ENSG00000285994 | <!----> |  0 |   2 |   2 |   1 |   0 |   0 |   0 |   0 | ⋯ |   0 |   0 |   0 |   0 |   0 |  0 |   0 |   0 |   0 |  0 |\n\n",
            "text/latex": "A data.frame: 58735 × 56\n\\begin{tabular}{lllllllllllllllllllll}\n Gene.ID & Gene.Name & SRR975562 & SRR975555 & SRR975597 & SRR975571 & SRR975553 & SRR975567 & SRR975590 & SRR975581 & ⋯ & SRR975604 & SRR975594 & SRR975560 & SRR975580 & SRR975570 & SRR975602 & SRR975561 & SRR975573 & SRR975587 & SRR975576\\\\\n <chr> & <chr> & <int> & <int> & <int> & <int> & <int> & <int> & <int> & <int> & ⋯ & <int> & <int> & <int> & <int> & <int> & <int> & <int> & <int> & <int> & <int>\\\\\n\\hline\n\t ENSG00000000003 & TSPAN6   & 1990 &  874 & 1011 & 1366 &  867 &  619 & 1800 &  385 & ⋯ & 1144 &   566 & 1065 & 1596 &  394 & 1451 &  804 &  571 & 1825 &  783\\\\\n\t ENSG00000000005 & TNMD     &   12 &    4 &    6 &   11 &   12 &    1 &    3 &    2 & ⋯ &    3 &     0 &    3 &   17 &    1 &    0 &    4 &   13 &    2 &    2\\\\\n\t ENSG00000000419 & DPM1     &  681 &  978 &  610 &  432 &  293 &  400 &  560 &  157 & ⋯ &  689 &   134 &  384 &  444 &  157 &  560 &  301 &  229 &  717 &  192\\\\\n\t ENSG00000000457 & SCYL3    &  165 &  221 &  138 &  309 &  207 &  248 &  158 &  146 & ⋯ &  185 &    89 &  133 &  178 &  133 &   85 &  147 &  182 &  165 &  146\\\\\n\t ENSG00000000460 & C1orf112 &   88 &  109 &   88 &   42 &   38 &  108 &  116 &   27 & ⋯ &   50 &    25 &   37 &   66 &   20 &   84 &   21 &   37 &  138 &   19\\\\\n\t ENSG00000000938 & FGR      &   60 &   84 &   81 &  121 &   89 &   93 &   66 &   47 & ⋯ &  378 &    74 &   66 &   59 &   23 &   38 &   54 &   44 &  124 &   46\\\\\n\t ENSG00000000971 & CFH      &  375 &  201 & 1350 & 1615 & 1035 &  589 & 1685 &  935 & ⋯ & 6253 & 19581 &  518 &  268 &  354 &   65 &  449 &  640 & 7902 &  471\\\\\n\t ENSG00000001036 & FUCA2    &  955 &  991 &  276 &  914 &  623 &  504 &  633 &  451 & ⋯ &  836 &   344 &  709 & 1063 &  353 &  509 &  317 &  438 &  887 &  484\\\\\n\t ENSG00000001084 & GCLC     &  435 &  693 &  551 &  650 &  421 &  645 &  837 &  339 & ⋯ &  812 &   785 &  366 &  406 &  255 &  424 &  308 &  430 &  992 &  280\\\\\n\t ENSG00000001167 & NFYA     &  420 &  539 &  342 &  464 &  273 &  983 &  503 &  229 & ⋯ &  404 &   196 &  275 &  339 &  164 &  225 &  145 &  256 &  423 &  211\\\\\n\t ENSG00000001460 & STPG1    &  113 &  176 &   90 &  229 &  138 &  114 &   51 &   73 & ⋯ &   31 &    17 &  157 &  192 &  105 &   98 &  122 &  183 &   67 &  106\\\\\n\t ENSG00000001461 & NIPAL3   &  314 &  983 &  465 &  655 &  419 &  447 &  288 &  491 & ⋯ &  316 &    86 &  419 &  629 &  341 &  363 &  475 &  629 &  368 &  387\\\\\n\t ENSG00000001497 & LAS1L    &  764 &  589 &  433 &  508 &  328 &  391 &  543 &  241 & ⋯ &  617 &   196 &  452 &  677 &  160 &  663 &  230 &  269 &  747 &  295\\\\\n\t ENSG00000001561 & ENPP4    &  325 &  458 &  193 &  621 &  377 &  407 &  256 &  217 & ⋯ &  342 &    90 &  260 &  321 &  206 &  211 &  293 &  254 &  264 &  229\\\\\n\t ENSG00000001617 & SEMA3F   &  467 &  571 &  696 &  218 &  164 &  377 &  119 &  260 & ⋯ &  282 &    47 &  411 &  359 &   89 &  420 &  266 &   94 &  122 &  198\\\\\n\t ENSG00000001626 & CFTR     &  716 & 3752 & 1878 & 2987 & 1993 & 1549 &  316 & 1546 & ⋯ & 3812 &   436 &  898 & 1430 & 1518 & 2474 & 1263 & 1724 & 3423 & 2011\\\\\n\t ENSG00000001629 & ANKIB1   &  356 &  840 &  347 &  787 &  483 &  530 &  449 &  328 & ⋯ &  592 &   176 &  330 &  354 &  292 &  404 &  325 &  423 &  708 &  373\\\\\n\t ENSG00000001630 & CYP51A1  &  129 &  171 &  120 &   84 &   61 &   46 &   73 &   64 & ⋯ &  126 &    99 &   58 &   98 &   20 &  163 &   60 &   48 &   54 &   57\\\\\n\t ENSG00000001631 & KRIT1    &   95 &  112 &  103 &  105 &   66 &   74 &  111 &   52 & ⋯ &  107 &    42 &   49 &   73 &   39 &   93 &   75 &   61 &  151 &   77\\\\\n\t ENSG00000002016 & RAD52    &   95 &  136 &  102 &  246 &  173 &  107 &   97 &  139 & ⋯ &  111 &    30 &   89 &  154 &   94 &   82 &   77 &  166 &  171 &  152\\\\\n\t ENSG00000002079 & MYH16    &    4 &    3 &    1 &    0 &    2 &    2 &    0 &    2 & ⋯ &   10 &     1 &    1 &    3 &    0 &    1 &    2 &    0 &    3 &    1\\\\\n\t ENSG00000002330 & BAD      &  154 &  210 &  126 &  249 &  166 &  168 &   68 &  199 & ⋯ &  137 &    64 &  346 &  340 &  104 &  106 &  212 &  170 &  122 &  193\\\\\n\t ENSG00000002549 & LAP3     &  733 & 2057 & 1124 & 1973 & 1275 & 1203 &  913 &  644 & ⋯ & 1507 &  1393 &  810 &  936 &  482 & 1109 &  627 &  860 & 1748 &  635\\\\\n\t ENSG00000002586 & CD99     & 1778 & 1027 & 1221 & 1611 &  920 & 1368 & 1288 & 1087 & ⋯ & 1389 &   810 & 1563 & 1932 &  598 & 1079 & 1165 & 1098 & 1797 & 1033\\\\\n\t ENSG00000002587 & HS3ST1   &   50 &  103 &   69 &  144 &   73 &   94 &   96 &   77 & ⋯ &   56 &    33 &   91 &   72 &   44 &  109 &   71 &   61 &   40 &   62\\\\\n\t ENSG00000002726 & AOC1     & 1757 & 1803 &  758 & 5649 & 3729 & 1685 &  481 & 2989 & ⋯ & 1240 &    10 & 4201 & 4448 & 1797 &  786 & 2624 & 3317 &  654 & 2665\\\\\n\t ENSG00000002745 & WNT16    &    0 &    0 &    0 &    3 &    1 &    2 &    0 &    2 & ⋯ &    0 &     0 &    1 &    0 &    1 &    2 &    2 &    1 &    1 &    1\\\\\n\t ENSG00000002746 & HECW1    &   18 &    6 &    1 &    3 &    2 &   17 &    0 &    5 & ⋯ &    7 &     2 &    7 &    6 &    0 &    1 &    4 &    4 &    2 &    0\\\\\n\t ENSG00000002822 & MAD1L1   &  253 &  289 &  186 &  265 &  153 &  269 &  201 &  130 & ⋯ &  339 &   135 &  267 &  278 &   89 &  158 &  139 &  131 &  314 &  125\\\\\n\t ENSG00000002834 & LASP1    & 3529 & 5377 & 3333 & 5089 & 3520 & 4239 & 2428 & 3130 & ⋯ & 3696 &  1382 & 4746 & 5575 & 2097 & 1602 & 3095 & 4155 & 4156 & 2829\\\\\n\t ⋮ & ⋮ & ⋮ & ⋮ & ⋮ & ⋮ & ⋮ & ⋮ & ⋮ & ⋮ & ⋱ & ⋮ & ⋮ & ⋮ & ⋮ & ⋮ & ⋮ & ⋮ & ⋮ & ⋮ & ⋮\\\\\n\t ENSG00000285963 &           &  1 &   0 &   0 &   0 &   0 &   0 &   0 &   0 & ⋯ &   0 &   0 &   0 &   0 &   0 &  0 &   0 &   0 &   2 &  0\\\\\n\t ENSG00000285964 &           &  0 &   0 &   0 &   0 &   0 &   0 &   0 &   0 & ⋯ &   0 &   0 &   0 &   0 &   0 &  0 &   0 &   0 &   0 &  0\\\\\n\t ENSG00000285966 &           &  0 &   0 &   0 &   0 &   0 &   0 &   1 &   0 & ⋯ &   0 &   1 &   0 &   0 &   0 &  0 &   0 &   0 &   0 &  0\\\\\n\t ENSG00000285967 & NIPBL-DT  & 54 &  55 &  64 &  86 &  50 &  52 & 145 &  72 & ⋯ &  47 &  20 &  44 &  51 &  35 & 60 &  48 &  58 &  74 & 53\\\\\n\t ENSG00000285968 &           &  0 &   0 &   0 &   0 &   0 &   0 &   0 &   0 & ⋯ &   0 &   0 &   0 &   0 &   0 &  0 &   0 &   0 &   0 &  0\\\\\n\t ENSG00000285969 &           &  0 &   0 &   0 &   0 &   0 &   1 &   0 &   0 & ⋯ &   0 &   0 &   0 &   0 &   0 &  1 &   0 &   0 &   0 &  0\\\\\n\t ENSG00000285970 &           &  0 &   0 &   0 &   0 &   0 &   0 &   0 &   0 & ⋯ &   0 &   0 &   0 &   0 &   0 &  0 &   0 &   0 &   0 &  0\\\\\n\t ENSG00000285971 &           &  0 &   0 &   0 &   0 &   1 &   0 &   0 &   0 & ⋯ &   0 &   0 &   0 &   0 &   0 &  0 &   0 &   0 &   0 &  0\\\\\n\t ENSG00000285972 & CERNA2    &  4 & 106 &   2 &  19 &  10 &   1 &   0 &   1 & ⋯ &   2 &   0 &  14 &   6 &   0 &  6 &   2 &   2 &   4 &  2\\\\\n\t ENSG00000285973 &           &  1 &   0 &   0 &   2 &   0 &   0 &   0 &   0 & ⋯ &   0 &   3 &   0 &   1 &   1 &  1 &   0 &   0 &   0 &  0\\\\\n\t ENSG00000285974 &           &  0 &   0 &   1 &   0 &   0 &   0 &   0 &   0 & ⋯ &   0 &   0 &   0 &   0 &   0 &  1 &   0 &   0 &   0 &  0\\\\\n\t ENSG00000285975 & FAM90A7P  &  0 &   0 &   0 &   0 &   0 &   0 &   0 &   0 & ⋯ &   0 &   0 &   0 &   0 &   0 &  0 &   0 &   0 &   0 &  0\\\\\n\t ENSG00000285976 &           & 80 & 132 & 100 & 259 & 124 & 165 & 102 & 162 & ⋯ & 280 & 176 & 143 & 214 & 107 & 97 & 143 & 134 & 172 & 87\\\\\n\t ENSG00000285977 &           &  0 &   0 &   0 &   0 &   0 &   0 &   0 &   0 & ⋯ &   0 &   0 &   0 &   0 &   0 &  0 &   0 &   0 &   0 &  0\\\\\n\t ENSG00000285978 &           &  0 &   0 &   0 &   0 &   0 &   1 &   0 &   0 & ⋯ &   0 &   0 &   0 &   0 &   0 &  0 &   0 &   0 &   0 &  0\\\\\n\t ENSG00000285979 &           & 12 &  39 &  23 &  47 &  11 &  18 &  15 &  13 & ⋯ &  18 &   4 &  16 &  18 &   9 & 24 &   7 &  21 &  41 & 18\\\\\n\t ENSG00000285980 &           &  0 &   0 &   0 &   0 &   0 &   0 &   0 &   0 & ⋯ &   0 &   0 &   0 &   0 &   0 &  0 &   0 &   0 &   0 &  0\\\\\n\t ENSG00000285981 &           &  0 &   0 &   0 &   0 &   0 &   0 &   0 &   0 & ⋯ &   0 &   0 &   0 &   0 &   0 &  0 &   0 &   0 &   0 &  0\\\\\n\t ENSG00000285982 &           &  0 &   0 &   0 &   0 &   0 &   0 &   0 &   0 & ⋯ &   0 &   0 &   0 &   0 &   0 &  0 &   0 &   0 &   0 &  0\\\\\n\t ENSG00000285984 &           &  0 &   1 &   0 &   0 &   0 &   0 &   0 &   0 & ⋯ &   0 &   0 &   0 &   0 &   0 &  0 &   0 &   0 &   0 &  0\\\\\n\t ENSG00000285985 & LINC02689 &  0 &   0 &   0 &   0 &   0 &   0 &   0 &   0 & ⋯ &   0 &   0 &   0 &   0 &   0 &  0 &   0 &   0 &   0 &  0\\\\\n\t ENSG00000285986 &           &  0 &   0 &   0 &   0 &   0 &   0 &   0 &   0 & ⋯ &   0 &   0 &   0 &   0 &   0 &  0 &   0 &   0 &   0 &  0\\\\\n\t ENSG00000285987 &           &  0 &   0 &   0 &   0 &   0 &   0 &   0 &   0 & ⋯ &   0 &   0 &   0 &   0 &   0 &  0 &   0 &   0 &   0 &  0\\\\\n\t ENSG00000285988 &           &  0 &   0 &   0 &   0 &   0 &   0 &   0 &   0 & ⋯ &   0 &   0 &   0 &   0 &   0 &  0 &   0 &   0 &   0 &  0\\\\\n\t ENSG00000285989 & H2AQ1P    &  0 &   0 &   0 &   0 &   0 &   0 &   0 &   0 & ⋯ &   0 &   0 &   0 &   0 &   0 &  0 &   0 &   0 &   0 &  0\\\\\n\t ENSG00000285990 & NBEAP6    &  0 &   0 &   0 &   0 &   0 &   0 &   0 &   0 & ⋯ &   0 &   0 &   0 &   0 &   0 &  0 &   0 &   0 &   0 &  0\\\\\n\t ENSG00000285991 &           &  2 &   0 &   0 &   3 &   0 &   1 &   4 &   0 & ⋯ &   0 &   1 &   3 &   3 &   1 &  1 &   2 &   2 &   2 &  2\\\\\n\t ENSG00000285992 &           &  0 &   0 &   0 &   0 &   0 &   0 &   0 &   0 & ⋯ &   0 &   0 &   0 &   0 &   0 &  0 &   0 &   0 &   0 &  0\\\\\n\t ENSG00000285993 &           &  0 &   0 &   1 &   0 &   0 &   0 &   0 &   0 & ⋯ &   0 &   0 &   0 &   0 &   0 &  0 &   0 &   0 &   0 &  0\\\\\n\t ENSG00000285994 &           &  0 &   2 &   2 &   1 &   0 &   0 &   0 &   0 & ⋯ &   0 &   0 &   0 &   0 &   0 &  0 &   0 &   0 &   0 &  0\\\\\n\\end{tabular}\n",
            "text/plain": [
              "      Gene.ID         Gene.Name SRR975562 SRR975555 SRR975597 SRR975571\n",
              "1     ENSG00000000003 TSPAN6    1990       874      1011      1366     \n",
              "2     ENSG00000000005 TNMD        12         4         6        11     \n",
              "3     ENSG00000000419 DPM1       681       978       610       432     \n",
              "4     ENSG00000000457 SCYL3      165       221       138       309     \n",
              "5     ENSG00000000460 C1orf112    88       109        88        42     \n",
              "6     ENSG00000000938 FGR         60        84        81       121     \n",
              "7     ENSG00000000971 CFH        375       201      1350      1615     \n",
              "8     ENSG00000001036 FUCA2      955       991       276       914     \n",
              "9     ENSG00000001084 GCLC       435       693       551       650     \n",
              "10    ENSG00000001167 NFYA       420       539       342       464     \n",
              "11    ENSG00000001460 STPG1      113       176        90       229     \n",
              "12    ENSG00000001461 NIPAL3     314       983       465       655     \n",
              "13    ENSG00000001497 LAS1L      764       589       433       508     \n",
              "14    ENSG00000001561 ENPP4      325       458       193       621     \n",
              "15    ENSG00000001617 SEMA3F     467       571       696       218     \n",
              "16    ENSG00000001626 CFTR       716      3752      1878      2987     \n",
              "17    ENSG00000001629 ANKIB1     356       840       347       787     \n",
              "18    ENSG00000001630 CYP51A1    129       171       120        84     \n",
              "19    ENSG00000001631 KRIT1       95       112       103       105     \n",
              "20    ENSG00000002016 RAD52       95       136       102       246     \n",
              "21    ENSG00000002079 MYH16        4         3         1         0     \n",
              "22    ENSG00000002330 BAD        154       210       126       249     \n",
              "23    ENSG00000002549 LAP3       733      2057      1124      1973     \n",
              "24    ENSG00000002586 CD99      1778      1027      1221      1611     \n",
              "25    ENSG00000002587 HS3ST1      50       103        69       144     \n",
              "26    ENSG00000002726 AOC1      1757      1803       758      5649     \n",
              "27    ENSG00000002745 WNT16        0         0         0         3     \n",
              "28    ENSG00000002746 HECW1       18         6         1         3     \n",
              "29    ENSG00000002822 MAD1L1     253       289       186       265     \n",
              "30    ENSG00000002834 LASP1     3529      5377      3333      5089     \n",
              "⋮     ⋮               ⋮         ⋮         ⋮         ⋮         ⋮        \n",
              "58706 ENSG00000285963            1          0         0         0      \n",
              "58707 ENSG00000285964            0          0         0         0      \n",
              "58708 ENSG00000285966            0          0         0         0      \n",
              "58709 ENSG00000285967 NIPBL-DT  54         55        64        86      \n",
              "58710 ENSG00000285968            0          0         0         0      \n",
              "58711 ENSG00000285969            0          0         0         0      \n",
              "58712 ENSG00000285970            0          0         0         0      \n",
              "58713 ENSG00000285971            0          0         0         0      \n",
              "58714 ENSG00000285972 CERNA2     4        106         2        19      \n",
              "58715 ENSG00000285973            1          0         0         2      \n",
              "58716 ENSG00000285974            0          0         1         0      \n",
              "58717 ENSG00000285975 FAM90A7P   0          0         0         0      \n",
              "58718 ENSG00000285976           80        132       100       259      \n",
              "58719 ENSG00000285977            0          0         0         0      \n",
              "58720 ENSG00000285978            0          0         0         0      \n",
              "58721 ENSG00000285979           12         39        23        47      \n",
              "58722 ENSG00000285980            0          0         0         0      \n",
              "58723 ENSG00000285981            0          0         0         0      \n",
              "58724 ENSG00000285982            0          0         0         0      \n",
              "58725 ENSG00000285984            0          1         0         0      \n",
              "58726 ENSG00000285985 LINC02689  0          0         0         0      \n",
              "58727 ENSG00000285986            0          0         0         0      \n",
              "58728 ENSG00000285987            0          0         0         0      \n",
              "58729 ENSG00000285988            0          0         0         0      \n",
              "58730 ENSG00000285989 H2AQ1P     0          0         0         0      \n",
              "58731 ENSG00000285990 NBEAP6     0          0         0         0      \n",
              "58732 ENSG00000285991            2          0         0         3      \n",
              "58733 ENSG00000285992            0          0         0         0      \n",
              "58734 ENSG00000285993            0          0         1         0      \n",
              "58735 ENSG00000285994            0          2         2         1      \n",
              "      SRR975553 SRR975567 SRR975590 SRR975581 ⋯ SRR975604 SRR975594 SRR975560\n",
              "1      867       619      1800       385      ⋯ 1144        566     1065     \n",
              "2       12         1         3         2      ⋯    3          0        3     \n",
              "3      293       400       560       157      ⋯  689        134      384     \n",
              "4      207       248       158       146      ⋯  185         89      133     \n",
              "5       38       108       116        27      ⋯   50         25       37     \n",
              "6       89        93        66        47      ⋯  378         74       66     \n",
              "7     1035       589      1685       935      ⋯ 6253      19581      518     \n",
              "8      623       504       633       451      ⋯  836        344      709     \n",
              "9      421       645       837       339      ⋯  812        785      366     \n",
              "10     273       983       503       229      ⋯  404        196      275     \n",
              "11     138       114        51        73      ⋯   31         17      157     \n",
              "12     419       447       288       491      ⋯  316         86      419     \n",
              "13     328       391       543       241      ⋯  617        196      452     \n",
              "14     377       407       256       217      ⋯  342         90      260     \n",
              "15     164       377       119       260      ⋯  282         47      411     \n",
              "16    1993      1549       316      1546      ⋯ 3812        436      898     \n",
              "17     483       530       449       328      ⋯  592        176      330     \n",
              "18      61        46        73        64      ⋯  126         99       58     \n",
              "19      66        74       111        52      ⋯  107         42       49     \n",
              "20     173       107        97       139      ⋯  111         30       89     \n",
              "21       2         2         0         2      ⋯   10          1        1     \n",
              "22     166       168        68       199      ⋯  137         64      346     \n",
              "23    1275      1203       913       644      ⋯ 1507       1393      810     \n",
              "24     920      1368      1288      1087      ⋯ 1389        810     1563     \n",
              "25      73        94        96        77      ⋯   56         33       91     \n",
              "26    3729      1685       481      2989      ⋯ 1240         10     4201     \n",
              "27       1         2         0         2      ⋯    0          0        1     \n",
              "28       2        17         0         5      ⋯    7          2        7     \n",
              "29     153       269       201       130      ⋯  339        135      267     \n",
              "30    3520      4239      2428      3130      ⋯ 3696       1382     4746     \n",
              "⋮     ⋮         ⋮         ⋮         ⋮         ⋱ ⋮         ⋮         ⋮        \n",
              "58706   0         0         0         0       ⋯   0         0         0      \n",
              "58707   0         0         0         0       ⋯   0         0         0      \n",
              "58708   0         0         1         0       ⋯   0         1         0      \n",
              "58709  50        52       145        72       ⋯  47        20        44      \n",
              "58710   0         0         0         0       ⋯   0         0         0      \n",
              "58711   0         1         0         0       ⋯   0         0         0      \n",
              "58712   0         0         0         0       ⋯   0         0         0      \n",
              "58713   1         0         0         0       ⋯   0         0         0      \n",
              "58714  10         1         0         1       ⋯   2         0        14      \n",
              "58715   0         0         0         0       ⋯   0         3         0      \n",
              "58716   0         0         0         0       ⋯   0         0         0      \n",
              "58717   0         0         0         0       ⋯   0         0         0      \n",
              "58718 124       165       102       162       ⋯ 280       176       143      \n",
              "58719   0         0         0         0       ⋯   0         0         0      \n",
              "58720   0         1         0         0       ⋯   0         0         0      \n",
              "58721  11        18        15        13       ⋯  18         4        16      \n",
              "58722   0         0         0         0       ⋯   0         0         0      \n",
              "58723   0         0         0         0       ⋯   0         0         0      \n",
              "58724   0         0         0         0       ⋯   0         0         0      \n",
              "58725   0         0         0         0       ⋯   0         0         0      \n",
              "58726   0         0         0         0       ⋯   0         0         0      \n",
              "58727   0         0         0         0       ⋯   0         0         0      \n",
              "58728   0         0         0         0       ⋯   0         0         0      \n",
              "58729   0         0         0         0       ⋯   0         0         0      \n",
              "58730   0         0         0         0       ⋯   0         0         0      \n",
              "58731   0         0         0         0       ⋯   0         0         0      \n",
              "58732   0         1         4         0       ⋯   0         1         3      \n",
              "58733   0         0         0         0       ⋯   0         0         0      \n",
              "58734   0         0         0         0       ⋯   0         0         0      \n",
              "58735   0         0         0         0       ⋯   0         0         0      \n",
              "      SRR975580 SRR975570 SRR975602 SRR975561 SRR975573 SRR975587 SRR975576\n",
              "1     1596       394      1451       804       571      1825       783     \n",
              "2       17         1         0         4        13         2         2     \n",
              "3      444       157       560       301       229       717       192     \n",
              "4      178       133        85       147       182       165       146     \n",
              "5       66        20        84        21        37       138        19     \n",
              "6       59        23        38        54        44       124        46     \n",
              "7      268       354        65       449       640      7902       471     \n",
              "8     1063       353       509       317       438       887       484     \n",
              "9      406       255       424       308       430       992       280     \n",
              "10     339       164       225       145       256       423       211     \n",
              "11     192       105        98       122       183        67       106     \n",
              "12     629       341       363       475       629       368       387     \n",
              "13     677       160       663       230       269       747       295     \n",
              "14     321       206       211       293       254       264       229     \n",
              "15     359        89       420       266        94       122       198     \n",
              "16    1430      1518      2474      1263      1724      3423      2011     \n",
              "17     354       292       404       325       423       708       373     \n",
              "18      98        20       163        60        48        54        57     \n",
              "19      73        39        93        75        61       151        77     \n",
              "20     154        94        82        77       166       171       152     \n",
              "21       3         0         1         2         0         3         1     \n",
              "22     340       104       106       212       170       122       193     \n",
              "23     936       482      1109       627       860      1748       635     \n",
              "24    1932       598      1079      1165      1098      1797      1033     \n",
              "25      72        44       109        71        61        40        62     \n",
              "26    4448      1797       786      2624      3317       654      2665     \n",
              "27       0         1         2         2         1         1         1     \n",
              "28       6         0         1         4         4         2         0     \n",
              "29     278        89       158       139       131       314       125     \n",
              "30    5575      2097      1602      3095      4155      4156      2829     \n",
              "⋮     ⋮         ⋮         ⋮         ⋮         ⋮         ⋮         ⋮        \n",
              "58706   0         0        0          0         0         2        0       \n",
              "58707   0         0        0          0         0         0        0       \n",
              "58708   0         0        0          0         0         0        0       \n",
              "58709  51        35       60         48        58        74       53       \n",
              "58710   0         0        0          0         0         0        0       \n",
              "58711   0         0        1          0         0         0        0       \n",
              "58712   0         0        0          0         0         0        0       \n",
              "58713   0         0        0          0         0         0        0       \n",
              "58714   6         0        6          2         2         4        2       \n",
              "58715   1         1        1          0         0         0        0       \n",
              "58716   0         0        1          0         0         0        0       \n",
              "58717   0         0        0          0         0         0        0       \n",
              "58718 214       107       97        143       134       172       87       \n",
              "58719   0         0        0          0         0         0        0       \n",
              "58720   0         0        0          0         0         0        0       \n",
              "58721  18         9       24          7        21        41       18       \n",
              "58722   0         0        0          0         0         0        0       \n",
              "58723   0         0        0          0         0         0        0       \n",
              "58724   0         0        0          0         0         0        0       \n",
              "58725   0         0        0          0         0         0        0       \n",
              "58726   0         0        0          0         0         0        0       \n",
              "58727   0         0        0          0         0         0        0       \n",
              "58728   0         0        0          0         0         0        0       \n",
              "58729   0         0        0          0         0         0        0       \n",
              "58730   0         0        0          0         0         0        0       \n",
              "58731   0         0        0          0         0         0        0       \n",
              "58732   3         1        1          2         2         2        2       \n",
              "58733   0         0        0          0         0         0        0       \n",
              "58734   0         0        0          0         0         0        0       \n",
              "58735   0         0        0          0         0         0        0       "
            ]
          },
          "metadata": {}
        }
      ],
      "source": [
        "raw_counts"
      ]
    },
    {
      "cell_type": "code",
      "execution_count": null,
      "metadata": {
        "colab": {
          "base_uri": "https://localhost:8080/",
          "height": 1000
        },
        "id": "frA0jyrTBHHy",
        "outputId": "4be265c6-b9a6-4fde-e8c7-cb57cf6f3119"
      },
      "outputs": [
        {
          "output_type": "display_data",
          "data": {
            "text/html": [
              "<table class=\"dataframe\">\n",
              "<caption>A data.frame: 54 × 3</caption>\n",
              "<thead>\n",
              "\t<tr><th scope=col>Run</th><th scope=col>tissue_type</th><th scope=col>individual_id</th></tr>\n",
              "\t<tr><th scope=col>&lt;chr&gt;</th><th scope=col>&lt;chr&gt;</th><th scope=col>&lt;chr&gt;</th></tr>\n",
              "</thead>\n",
              "<tbody>\n",
              "\t<tr><td>SRR975551</td><td>primary tumor                            </td><td>AMC_2 </td></tr>\n",
              "\t<tr><td>SRR975552</td><td>primary tumor                            </td><td>AMC_3 </td></tr>\n",
              "\t<tr><td>SRR975553</td><td>primary tumor                            </td><td>AMC_5 </td></tr>\n",
              "\t<tr><td>SRR975554</td><td>primary tumor                            </td><td>AMC_6 </td></tr>\n",
              "\t<tr><td>SRR975555</td><td>primary tumor                            </td><td>AMC_7 </td></tr>\n",
              "\t<tr><td>SRR975556</td><td>primary tumor                            </td><td>AMC_8 </td></tr>\n",
              "\t<tr><td>SRR975557</td><td>primary tumor                            </td><td>AMC_9 </td></tr>\n",
              "\t<tr><td>SRR975558</td><td>primary tumor                            </td><td>AMC_10</td></tr>\n",
              "\t<tr><td>SRR975559</td><td>primary tumor                            </td><td>AMC_12</td></tr>\n",
              "\t<tr><td>SRR975560</td><td>primary tumor                            </td><td>AMC_13</td></tr>\n",
              "\t<tr><td>SRR975561</td><td>primary tumor                            </td><td>AMC_17</td></tr>\n",
              "\t<tr><td>SRR975562</td><td>primary tumor                            </td><td>AMC_18</td></tr>\n",
              "\t<tr><td>SRR975563</td><td>primary tumor                            </td><td>AMC_19</td></tr>\n",
              "\t<tr><td>SRR975564</td><td>primary tumor                            </td><td>AMC_20</td></tr>\n",
              "\t<tr><td>SRR975565</td><td>primary tumor                            </td><td>AMC_21</td></tr>\n",
              "\t<tr><td>SRR975566</td><td>primary tumor                            </td><td>AMC_22</td></tr>\n",
              "\t<tr><td>SRR975567</td><td>primary tumor                            </td><td>AMC_23</td></tr>\n",
              "\t<tr><td>SRR975568</td><td>primary tumor                            </td><td>AMC_24</td></tr>\n",
              "\t<tr><td>SRR975569</td><td>normal                                   </td><td>AMC_2 </td></tr>\n",
              "\t<tr><td>SRR975570</td><td>normal                                   </td><td>AMC_3 </td></tr>\n",
              "\t<tr><td>SRR975571</td><td>normal                                   </td><td>AMC_5 </td></tr>\n",
              "\t<tr><td>SRR975572</td><td>normal                                   </td><td>AMC_6 </td></tr>\n",
              "\t<tr><td>SRR975573</td><td>normal                                   </td><td>AMC_7 </td></tr>\n",
              "\t<tr><td>SRR975574</td><td>normal                                   </td><td>AMC_8 </td></tr>\n",
              "\t<tr><td>SRR975575</td><td>normal                                   </td><td>AMC_9 </td></tr>\n",
              "\t<tr><td>SRR975576</td><td>normal                                   </td><td>AMC_10</td></tr>\n",
              "\t<tr><td>SRR975577</td><td>normal                                   </td><td>AMC_12</td></tr>\n",
              "\t<tr><td>SRR975578</td><td>normal                                   </td><td>AMC_13</td></tr>\n",
              "\t<tr><td>SRR975579</td><td>normal                                   </td><td>AMC_17</td></tr>\n",
              "\t<tr><td>SRR975580</td><td>normal                                   </td><td>AMC_18</td></tr>\n",
              "\t<tr><td>SRR975581</td><td>normal                                   </td><td>AMC_19</td></tr>\n",
              "\t<tr><td>SRR975582</td><td>normal                                   </td><td>AMC_20</td></tr>\n",
              "\t<tr><td>SRR975583</td><td>normal                                   </td><td>AMC_21</td></tr>\n",
              "\t<tr><td>SRR975584</td><td>normal                                   </td><td>AMC_22</td></tr>\n",
              "\t<tr><td>SRR975585</td><td>normal                                   </td><td>AMC_23</td></tr>\n",
              "\t<tr><td>SRR975586</td><td>normal                                   </td><td>AMC_24</td></tr>\n",
              "\t<tr><td>SRR975587</td><td>normal                                   </td><td>AMC_2 </td></tr>\n",
              "\t<tr><td>SRR975588</td><td>colorectal cancer metastatic in the liver</td><td>AMC_3 </td></tr>\n",
              "\t<tr><td>SRR975589</td><td>colorectal cancer metastatic in the liver</td><td>AMC_5 </td></tr>\n",
              "\t<tr><td>SRR975590</td><td>colorectal cancer metastatic in the liver</td><td>AMC_6 </td></tr>\n",
              "\t<tr><td>SRR975591</td><td>colorectal cancer metastatic in the liver</td><td>AMC_7 </td></tr>\n",
              "\t<tr><td>SRR975592</td><td>colorectal cancer metastatic in the liver</td><td>AMC_8 </td></tr>\n",
              "\t<tr><td>SRR975593</td><td>colorectal cancer metastatic in the liver</td><td>AMC_9 </td></tr>\n",
              "\t<tr><td>SRR975594</td><td>colorectal cancer metastatic in the liver</td><td>AMC_10</td></tr>\n",
              "\t<tr><td>SRR975595</td><td>colorectal cancer metastatic in the liver</td><td>AMC_12</td></tr>\n",
              "\t<tr><td>SRR975596</td><td>colorectal cancer metastatic in the liver</td><td>AMC_13</td></tr>\n",
              "\t<tr><td>SRR975597</td><td>colorectal cancer metastatic in the liver</td><td>AMC_17</td></tr>\n",
              "\t<tr><td>SRR975598</td><td>colorectal cancer metastatic in the liver</td><td>AMC_18</td></tr>\n",
              "\t<tr><td>SRR975599</td><td>colorectal cancer metastatic in the liver</td><td>AMC_19</td></tr>\n",
              "\t<tr><td>SRR975600</td><td>colorectal cancer metastatic in the liver</td><td>AMC_20</td></tr>\n",
              "\t<tr><td>SRR975601</td><td>colorectal cancer metastatic in the liver</td><td>AMC_21</td></tr>\n",
              "\t<tr><td>SRR975602</td><td>colorectal cancer metastatic in the liver</td><td>AMC_22</td></tr>\n",
              "\t<tr><td>SRR975603</td><td>colorectal cancer metastatic in the liver</td><td>AMC_23</td></tr>\n",
              "\t<tr><td>SRR975604</td><td>colorectal cancer metastatic in the liver</td><td>AMC_24</td></tr>\n",
              "</tbody>\n",
              "</table>\n"
            ],
            "text/markdown": "\nA data.frame: 54 × 3\n\n| Run &lt;chr&gt; | tissue_type &lt;chr&gt; | individual_id &lt;chr&gt; |\n|---|---|---|\n| SRR975551 | primary tumor                             | AMC_2  |\n| SRR975552 | primary tumor                             | AMC_3  |\n| SRR975553 | primary tumor                             | AMC_5  |\n| SRR975554 | primary tumor                             | AMC_6  |\n| SRR975555 | primary tumor                             | AMC_7  |\n| SRR975556 | primary tumor                             | AMC_8  |\n| SRR975557 | primary tumor                             | AMC_9  |\n| SRR975558 | primary tumor                             | AMC_10 |\n| SRR975559 | primary tumor                             | AMC_12 |\n| SRR975560 | primary tumor                             | AMC_13 |\n| SRR975561 | primary tumor                             | AMC_17 |\n| SRR975562 | primary tumor                             | AMC_18 |\n| SRR975563 | primary tumor                             | AMC_19 |\n| SRR975564 | primary tumor                             | AMC_20 |\n| SRR975565 | primary tumor                             | AMC_21 |\n| SRR975566 | primary tumor                             | AMC_22 |\n| SRR975567 | primary tumor                             | AMC_23 |\n| SRR975568 | primary tumor                             | AMC_24 |\n| SRR975569 | normal                                    | AMC_2  |\n| SRR975570 | normal                                    | AMC_3  |\n| SRR975571 | normal                                    | AMC_5  |\n| SRR975572 | normal                                    | AMC_6  |\n| SRR975573 | normal                                    | AMC_7  |\n| SRR975574 | normal                                    | AMC_8  |\n| SRR975575 | normal                                    | AMC_9  |\n| SRR975576 | normal                                    | AMC_10 |\n| SRR975577 | normal                                    | AMC_12 |\n| SRR975578 | normal                                    | AMC_13 |\n| SRR975579 | normal                                    | AMC_17 |\n| SRR975580 | normal                                    | AMC_18 |\n| SRR975581 | normal                                    | AMC_19 |\n| SRR975582 | normal                                    | AMC_20 |\n| SRR975583 | normal                                    | AMC_21 |\n| SRR975584 | normal                                    | AMC_22 |\n| SRR975585 | normal                                    | AMC_23 |\n| SRR975586 | normal                                    | AMC_24 |\n| SRR975587 | normal                                    | AMC_2  |\n| SRR975588 | colorectal cancer metastatic in the liver | AMC_3  |\n| SRR975589 | colorectal cancer metastatic in the liver | AMC_5  |\n| SRR975590 | colorectal cancer metastatic in the liver | AMC_6  |\n| SRR975591 | colorectal cancer metastatic in the liver | AMC_7  |\n| SRR975592 | colorectal cancer metastatic in the liver | AMC_8  |\n| SRR975593 | colorectal cancer metastatic in the liver | AMC_9  |\n| SRR975594 | colorectal cancer metastatic in the liver | AMC_10 |\n| SRR975595 | colorectal cancer metastatic in the liver | AMC_12 |\n| SRR975596 | colorectal cancer metastatic in the liver | AMC_13 |\n| SRR975597 | colorectal cancer metastatic in the liver | AMC_17 |\n| SRR975598 | colorectal cancer metastatic in the liver | AMC_18 |\n| SRR975599 | colorectal cancer metastatic in the liver | AMC_19 |\n| SRR975600 | colorectal cancer metastatic in the liver | AMC_20 |\n| SRR975601 | colorectal cancer metastatic in the liver | AMC_21 |\n| SRR975602 | colorectal cancer metastatic in the liver | AMC_22 |\n| SRR975603 | colorectal cancer metastatic in the liver | AMC_23 |\n| SRR975604 | colorectal cancer metastatic in the liver | AMC_24 |\n\n",
            "text/latex": "A data.frame: 54 × 3\n\\begin{tabular}{lll}\n Run & tissue\\_type & individual\\_id\\\\\n <chr> & <chr> & <chr>\\\\\n\\hline\n\t SRR975551 & primary tumor                             & AMC\\_2 \\\\\n\t SRR975552 & primary tumor                             & AMC\\_3 \\\\\n\t SRR975553 & primary tumor                             & AMC\\_5 \\\\\n\t SRR975554 & primary tumor                             & AMC\\_6 \\\\\n\t SRR975555 & primary tumor                             & AMC\\_7 \\\\\n\t SRR975556 & primary tumor                             & AMC\\_8 \\\\\n\t SRR975557 & primary tumor                             & AMC\\_9 \\\\\n\t SRR975558 & primary tumor                             & AMC\\_10\\\\\n\t SRR975559 & primary tumor                             & AMC\\_12\\\\\n\t SRR975560 & primary tumor                             & AMC\\_13\\\\\n\t SRR975561 & primary tumor                             & AMC\\_17\\\\\n\t SRR975562 & primary tumor                             & AMC\\_18\\\\\n\t SRR975563 & primary tumor                             & AMC\\_19\\\\\n\t SRR975564 & primary tumor                             & AMC\\_20\\\\\n\t SRR975565 & primary tumor                             & AMC\\_21\\\\\n\t SRR975566 & primary tumor                             & AMC\\_22\\\\\n\t SRR975567 & primary tumor                             & AMC\\_23\\\\\n\t SRR975568 & primary tumor                             & AMC\\_24\\\\\n\t SRR975569 & normal                                    & AMC\\_2 \\\\\n\t SRR975570 & normal                                    & AMC\\_3 \\\\\n\t SRR975571 & normal                                    & AMC\\_5 \\\\\n\t SRR975572 & normal                                    & AMC\\_6 \\\\\n\t SRR975573 & normal                                    & AMC\\_7 \\\\\n\t SRR975574 & normal                                    & AMC\\_8 \\\\\n\t SRR975575 & normal                                    & AMC\\_9 \\\\\n\t SRR975576 & normal                                    & AMC\\_10\\\\\n\t SRR975577 & normal                                    & AMC\\_12\\\\\n\t SRR975578 & normal                                    & AMC\\_13\\\\\n\t SRR975579 & normal                                    & AMC\\_17\\\\\n\t SRR975580 & normal                                    & AMC\\_18\\\\\n\t SRR975581 & normal                                    & AMC\\_19\\\\\n\t SRR975582 & normal                                    & AMC\\_20\\\\\n\t SRR975583 & normal                                    & AMC\\_21\\\\\n\t SRR975584 & normal                                    & AMC\\_22\\\\\n\t SRR975585 & normal                                    & AMC\\_23\\\\\n\t SRR975586 & normal                                    & AMC\\_24\\\\\n\t SRR975587 & normal                                    & AMC\\_2 \\\\\n\t SRR975588 & colorectal cancer metastatic in the liver & AMC\\_3 \\\\\n\t SRR975589 & colorectal cancer metastatic in the liver & AMC\\_5 \\\\\n\t SRR975590 & colorectal cancer metastatic in the liver & AMC\\_6 \\\\\n\t SRR975591 & colorectal cancer metastatic in the liver & AMC\\_7 \\\\\n\t SRR975592 & colorectal cancer metastatic in the liver & AMC\\_8 \\\\\n\t SRR975593 & colorectal cancer metastatic in the liver & AMC\\_9 \\\\\n\t SRR975594 & colorectal cancer metastatic in the liver & AMC\\_10\\\\\n\t SRR975595 & colorectal cancer metastatic in the liver & AMC\\_12\\\\\n\t SRR975596 & colorectal cancer metastatic in the liver & AMC\\_13\\\\\n\t SRR975597 & colorectal cancer metastatic in the liver & AMC\\_17\\\\\n\t SRR975598 & colorectal cancer metastatic in the liver & AMC\\_18\\\\\n\t SRR975599 & colorectal cancer metastatic in the liver & AMC\\_19\\\\\n\t SRR975600 & colorectal cancer metastatic in the liver & AMC\\_20\\\\\n\t SRR975601 & colorectal cancer metastatic in the liver & AMC\\_21\\\\\n\t SRR975602 & colorectal cancer metastatic in the liver & AMC\\_22\\\\\n\t SRR975603 & colorectal cancer metastatic in the liver & AMC\\_23\\\\\n\t SRR975604 & colorectal cancer metastatic in the liver & AMC\\_24\\\\\n\\end{tabular}\n",
            "text/plain": [
              "   Run       tissue_type                               individual_id\n",
              "1  SRR975551 primary tumor                             AMC_2        \n",
              "2  SRR975552 primary tumor                             AMC_3        \n",
              "3  SRR975553 primary tumor                             AMC_5        \n",
              "4  SRR975554 primary tumor                             AMC_6        \n",
              "5  SRR975555 primary tumor                             AMC_7        \n",
              "6  SRR975556 primary tumor                             AMC_8        \n",
              "7  SRR975557 primary tumor                             AMC_9        \n",
              "8  SRR975558 primary tumor                             AMC_10       \n",
              "9  SRR975559 primary tumor                             AMC_12       \n",
              "10 SRR975560 primary tumor                             AMC_13       \n",
              "11 SRR975561 primary tumor                             AMC_17       \n",
              "12 SRR975562 primary tumor                             AMC_18       \n",
              "13 SRR975563 primary tumor                             AMC_19       \n",
              "14 SRR975564 primary tumor                             AMC_20       \n",
              "15 SRR975565 primary tumor                             AMC_21       \n",
              "16 SRR975566 primary tumor                             AMC_22       \n",
              "17 SRR975567 primary tumor                             AMC_23       \n",
              "18 SRR975568 primary tumor                             AMC_24       \n",
              "19 SRR975569 normal                                    AMC_2        \n",
              "20 SRR975570 normal                                    AMC_3        \n",
              "21 SRR975571 normal                                    AMC_5        \n",
              "22 SRR975572 normal                                    AMC_6        \n",
              "23 SRR975573 normal                                    AMC_7        \n",
              "24 SRR975574 normal                                    AMC_8        \n",
              "25 SRR975575 normal                                    AMC_9        \n",
              "26 SRR975576 normal                                    AMC_10       \n",
              "27 SRR975577 normal                                    AMC_12       \n",
              "28 SRR975578 normal                                    AMC_13       \n",
              "29 SRR975579 normal                                    AMC_17       \n",
              "30 SRR975580 normal                                    AMC_18       \n",
              "31 SRR975581 normal                                    AMC_19       \n",
              "32 SRR975582 normal                                    AMC_20       \n",
              "33 SRR975583 normal                                    AMC_21       \n",
              "34 SRR975584 normal                                    AMC_22       \n",
              "35 SRR975585 normal                                    AMC_23       \n",
              "36 SRR975586 normal                                    AMC_24       \n",
              "37 SRR975587 normal                                    AMC_2        \n",
              "38 SRR975588 colorectal cancer metastatic in the liver AMC_3        \n",
              "39 SRR975589 colorectal cancer metastatic in the liver AMC_5        \n",
              "40 SRR975590 colorectal cancer metastatic in the liver AMC_6        \n",
              "41 SRR975591 colorectal cancer metastatic in the liver AMC_7        \n",
              "42 SRR975592 colorectal cancer metastatic in the liver AMC_8        \n",
              "43 SRR975593 colorectal cancer metastatic in the liver AMC_9        \n",
              "44 SRR975594 colorectal cancer metastatic in the liver AMC_10       \n",
              "45 SRR975595 colorectal cancer metastatic in the liver AMC_12       \n",
              "46 SRR975596 colorectal cancer metastatic in the liver AMC_13       \n",
              "47 SRR975597 colorectal cancer metastatic in the liver AMC_17       \n",
              "48 SRR975598 colorectal cancer metastatic in the liver AMC_18       \n",
              "49 SRR975599 colorectal cancer metastatic in the liver AMC_19       \n",
              "50 SRR975600 colorectal cancer metastatic in the liver AMC_20       \n",
              "51 SRR975601 colorectal cancer metastatic in the liver AMC_21       \n",
              "52 SRR975602 colorectal cancer metastatic in the liver AMC_22       \n",
              "53 SRR975603 colorectal cancer metastatic in the liver AMC_23       \n",
              "54 SRR975604 colorectal cancer metastatic in the liver AMC_24       "
            ]
          },
          "metadata": {}
        }
      ],
      "source": [
        "sample_info"
      ]
    },
    {
      "cell_type": "code",
      "execution_count": null,
      "metadata": {
        "id": "fyEa1HmwBJWz"
      },
      "outputs": [],
      "source": [
        "raw_counts_matrix <-\n",
        "  raw_counts[-c(1:2)]\n",
        "\n",
        "gene_info <- raw_counts[c(1:2)]\n",
        "rownames(gene_info) <- gene_info$Gene.ID\n",
        "\n",
        "rownames(raw_counts_matrix) <-raw_counts$Gene.ID\n"
      ]
    },
    {
      "cell_type": "code",
      "execution_count": null,
      "metadata": {
        "id": "g_zhD4SGDAGO"
      },
      "outputs": [],
      "source": [
        "raw_counts_matrix <- raw_counts_matrix[sample_info$Run]\n"
      ]
    },
    {
      "cell_type": "code",
      "execution_count": null,
      "metadata": {
        "id": "x3CziwJUDKqa",
        "colab": {
          "base_uri": "https://localhost:8080/"
        },
        "outputId": "ea4bd4b8-efa9-4e3d-f8e5-29025c70a7a6"
      },
      "outputs": [
        {
          "output_type": "stream",
          "name": "stderr",
          "text": [
            "Warning message in DESeqDataSet(se, design = design, ignoreRank):\n",
            "“some variables in design formula are characters, converting to factors”\n",
            "  Note: levels of factors in the design contain characters other than\n",
            "  letters, numbers, '_' and '.'. It is recommended (but not required) to use\n",
            "  only letters, numbers, and delimiters '_' or '.', as these are safe characters\n",
            "  for column names in R. [This is a message, not a warning or an error]\n",
            "\n"
          ]
        }
      ],
      "source": [
        "#Creating DESeq object from the data\n",
        "deseq2obj <-\n",
        "  DESeqDataSetFromMatrix(countData = raw_counts_matrix,\n",
        "                          colData = sample_info,\n",
        "                          design = ~individual_id + tissue_type)"
      ]
    },
    {
      "cell_type": "code",
      "execution_count": null,
      "metadata": {
        "id": "6oNC8h4vDl6g"
      },
      "outputs": [],
      "source": [
        "#Filtering: Remove gene rows with little information\n",
        "deseq2obj <- deseq2obj[rowSums(counts(deseq2obj)) > 5,]"
      ]
    },
    {
      "cell_type": "code",
      "execution_count": null,
      "metadata": {
        "colab": {
          "base_uri": "https://localhost:8080/"
        },
        "id": "grvr-deJEqMw",
        "outputId": "384a7089-8e76-4d43-ad30-77646d1f1308"
      },
      "outputs": [
        {
          "output_type": "stream",
          "name": "stderr",
          "text": [
            "estimating size factors\n",
            "\n",
            "  Note: levels of factors in the design contain characters other than\n",
            "  letters, numbers, '_' and '.'. It is recommended (but not required) to use\n",
            "  only letters, numbers, and delimiters '_' or '.', as these are safe characters\n",
            "  for column names in R. [This is a message, not a warning or an error]\n",
            "\n",
            "estimating dispersions\n",
            "\n",
            "gene-wise dispersion estimates: 1 workers\n",
            "\n",
            "  Note: levels of factors in the design contain characters other than\n",
            "  letters, numbers, '_' and '.'. It is recommended (but not required) to use\n",
            "  only letters, numbers, and delimiters '_' or '.', as these are safe characters\n",
            "  for column names in R. [This is a message, not a warning or an error]\n",
            "\n",
            "mean-dispersion relationship\n",
            "\n",
            "  Note: levels of factors in the design contain characters other than\n",
            "  letters, numbers, '_' and '.'. It is recommended (but not required) to use\n",
            "  only letters, numbers, and delimiters '_' or '.', as these are safe characters\n",
            "  for column names in R. [This is a message, not a warning or an error]\n",
            "\n",
            "final dispersion estimates, fitting model and testing: 1 workers\n",
            "\n",
            "  Note: levels of factors in the design contain characters other than\n",
            "  letters, numbers, '_' and '.'. It is recommended (but not required) to use\n",
            "  only letters, numbers, and delimiters '_' or '.', as these are safe characters\n",
            "  for column names in R. [This is a message, not a warning or an error]\n",
            "\n"
          ]
        }
      ],
      "source": [
        "deseq2obj <- DESeq(deseq2obj,\n",
        "                    parallel=TRUE)"
      ]
    },
    {
      "cell_type": "markdown",
      "metadata": {
        "id": "8UYhPtqPemul"
      },
      "source": [
        "# To finalize the differentially expressed genes.\n",
        "\n",
        "\n"
      ]
    },
    {
      "cell_type": "markdown",
      "metadata": {
        "id": "dSt1i8VBloe0"
      },
      "source": [
        "#1-1  Contrasts between \"primary tumor\" vs \"normal\"  "
      ]
    },
    {
      "cell_type": "code",
      "execution_count": null,
      "metadata": {
        "id": "_ptYhMWmexBx"
      },
      "outputs": [],
      "source": [
        "# Define contrasts for primary vs normal\n",
        "contrasts_1 <- list(\n",
        "  \"DEGs_primary_vs_normal\" = c(\"tissue_type\", \"primary tumor\", \"normal\")\n",
        ")"
      ]
    },
    {
      "cell_type": "markdown",
      "metadata": {
        "id": "16Pu4WYrijh9"
      },
      "source": [
        "#1-2 set adjusted p-value < 0.05 and log2FC > 1**\n",
        "\n",
        "\n"
      ]
    },
    {
      "cell_type": "code",
      "execution_count": null,
      "metadata": {
        "id": "X0_PZlVke2Ay"
      },
      "outputs": [],
      "source": [
        "# Function to extract DEGs based on specified contrast\n",
        "get_DEGs <- function(contrast_name, deseq2obj) {\n",
        "  contrast <- contrasts_1[[contrast_name]]\n",
        "  res <- results(deseq2obj, contrast=contrast)\n",
        "  DEGs <- subset(res, padj < 0.05 & abs(log2FoldChange) > 1)\n",
        "  return(DEGs)\n",
        "}"
      ]
    },
    {
      "cell_type": "markdown",
      "metadata": {
        "id": "ScVF8IzRnp5s"
      },
      "source": [
        "# 1-3  Resulting DEGs_\"DEGs_primary_vs_normal\""
      ]
    },
    {
      "cell_type": "code",
      "execution_count": null,
      "metadata": {
        "colab": {
          "base_uri": "https://localhost:8080/"
        },
        "id": "nf8Ax5oAe7Yk",
        "outputId": "52dd063e-c386-4837-98b3-631720a84afd"
      },
      "outputs": [
        {
          "output_type": "stream",
          "name": "stdout",
          "text": [
            "DEGs_primary_vs_normal:\n",
            "log2 fold change (MLE): tissue_type primary tumor vs normal \n",
            "Wald test p-value: tissue_type primary tumor vs normal \n",
            "DataFrame with 2986 rows and 6 columns\n",
            "                  baseMean log2FoldChange     lfcSE      stat      pvalue\n",
            "                 <numeric>      <numeric> <numeric> <numeric>   <numeric>\n",
            "ENSG00000002726 2215.21795       -1.13728  0.343987  -3.30616 9.45828e-04\n",
            "ENSG00000002746    5.49718        1.04181  0.367066   2.83822 4.53658e-03\n",
            "ENSG00000003249   91.71312        1.67899  0.277556   6.04919 1.45572e-09\n",
            "ENSG00000004799  463.76030       -1.57051  0.341444  -4.59962 4.23264e-06\n",
            "ENSG00000004846    4.79037       -1.90541  0.560493  -3.39953 6.75014e-04\n",
            "...                    ...            ...       ...       ...         ...\n",
            "ENSG00000285420    2.64312       -1.24818  0.515104  -2.42316  0.01538609\n",
            "ENSG00000285706    3.15117       -1.13817  0.409492  -2.77946  0.00544496\n",
            "ENSG00000285735    1.66656       -2.70180  0.863567  -3.12865  0.00175609\n",
            "ENSG00000285872    4.85238        1.09839  0.437039   2.51325  0.01196245\n",
            "ENSG00000285938    5.16425        1.17096  0.478913   2.44503  0.01448394\n",
            "                       padj\n",
            "                  <numeric>\n",
            "ENSG00000002726 4.99031e-03\n",
            "ENSG00000002746 1.73110e-02\n",
            "ENSG00000003249 1.79240e-07\n",
            "ENSG00000004799 7.23508e-05\n",
            "ENSG00000004846 3.80377e-03\n",
            "...                     ...\n",
            "ENSG00000285420  0.04605028\n",
            "ENSG00000285706  0.01996434\n",
            "ENSG00000285735  0.00818999\n",
            "ENSG00000285872  0.03763294\n",
            "ENSG00000285938  0.04385860\n"
          ]
        }
      ],
      "source": [
        "# Extract DEGs for primary vs normal\n",
        "DEGs_primary_vs_normal <- get_DEGs(\"DEGs_primary_vs_normal\", deseq2obj)\n",
        "\n",
        "\n",
        "# Print DEGs for primary vs normal\n",
        "cat(\"DEGs_primary_vs_normal:\\n\")\n",
        "print(DEGs_primary_vs_normal)"
      ]
    },
    {
      "cell_type": "markdown",
      "metadata": {
        "id": "tRadqpu2l6M4"
      },
      "source": [
        "#4-1  Contrast between \"primary tumor\" vs \"Colorectal cancer metastatic in the liver\""
      ]
    },
    {
      "cell_type": "code",
      "execution_count": null,
      "metadata": {
        "id": "ek3tnnoMkMrs"
      },
      "outputs": [],
      "source": [
        "# Define contrasts for primary vs Colorectal cancer metastatic in the liver\n",
        "contrasts_2 <- list(\n",
        "  \"DEGs_primary_vs_metastatic\" = c(\"tissue_type\", \"primary tumor\", \"colorectal cancer metastatic in the liver\"))"
      ]
    },
    {
      "cell_type": "markdown",
      "metadata": {
        "id": "0CrmI8caqhvP"
      },
      "source": [
        "#4-2  Set adjusted p-value < 0.05 and log2FC > 1\n",
        "\n"
      ]
    },
    {
      "cell_type": "code",
      "execution_count": null,
      "metadata": {
        "id": "pntucHmYp34L"
      },
      "outputs": [],
      "source": [
        "# Function to extract DEGs based on specified contrast\n",
        "get_DEGs <- function(contrast_name, deseq2obj) {\n",
        "  contrast <- contrasts_2[[contrast_name]]\n",
        "  res <- results(deseq2obj, contrast=contrast)\n",
        "  DEGs <- subset(res, padj < 0.05 & abs(log2FoldChange) > 1)\n",
        "  return(DEGs)\n",
        "}"
      ]
    },
    {
      "cell_type": "markdown",
      "metadata": {
        "id": "so0j53rDqoO6"
      },
      "source": [
        "#4-3  Resulting DEGs \"DEGs_primary_vs_metastatic\""
      ]
    },
    {
      "cell_type": "code",
      "execution_count": null,
      "metadata": {
        "colab": {
          "base_uri": "https://localhost:8080/"
        },
        "id": "PejuKm8vqAMi",
        "outputId": "beb494b1-b817-4014-e451-1fa94bd264e3"
      },
      "outputs": [
        {
          "output_type": "stream",
          "name": "stdout",
          "text": [
            "DEGs_primary_vs_metatatic:\n",
            "log2 fold change (MLE): tissue_type primary tumor vs colorectal cancer metastatic in the liver \n",
            "Wald test p-value: tissue type primary.tumor vs colorectal.cancer.metastatic.in.the.liver \n",
            "DataFrame with 1742 rows and 6 columns\n",
            "                 baseMean log2FoldChange     lfcSE      stat      pvalue\n",
            "                <numeric>      <numeric> <numeric> <numeric>   <numeric>\n",
            "ENSG00000000971 2067.4447       -2.43903  0.402997  -6.05222 1.42865e-09\n",
            "ENSG00000002726 2215.2179        1.12861  0.354147   3.18684 1.43837e-03\n",
            "ENSG00000003137   31.7853        1.72640  0.360618   4.78733 1.69017e-06\n",
            "ENSG00000003436  298.8048       -1.23910  0.312722  -3.96232 7.42249e-05\n",
            "ENSG00000003989  427.6465       -2.52402  0.441151  -5.72143 1.05630e-08\n",
            "...                   ...            ...       ...       ...         ...\n",
            "ENSG00000284747   4.64289       -1.91301  0.442451  -4.32367 1.53454e-05\n",
            "ENSG00000284791   3.03810        2.88323  0.527156   5.46941 4.51536e-08\n",
            "ENSG00000285094  14.15248       -5.02040  0.945071  -5.31219 1.08314e-07\n",
            "ENSG00000285219  62.61712       -2.98453  0.400641  -7.44939 9.37733e-14\n",
            "ENSG00000285676   3.78562       -1.56347  0.473731  -3.30033 9.65715e-04\n",
            "                       padj\n",
            "                  <numeric>\n",
            "ENSG00000000971 7.65913e-08\n",
            "ENSG00000002726 1.75136e-02\n",
            "ENSG00000003137 5.33161e-05\n",
            "ENSG00000003436 1.48354e-03\n",
            "ENSG00000003989 4.95504e-07\n",
            "...                     ...\n",
            "ENSG00000284747 3.84801e-04\n",
            "ENSG00000284791 1.90837e-06\n",
            "ENSG00000285094 4.30212e-06\n",
            "ENSG00000285219 8.06747e-12\n",
            "ENSG00000285676 1.27084e-02\n"
          ]
        }
      ],
      "source": [
        "# Extract DEGs for primary vs metastatic\n",
        "DEGs_primary_vs_metastatic <- get_DEGs(\"DEGs_primary_vs_metastatic\", deseq2obj)\n",
        "\n",
        "\n",
        "# Print DEGs for primary vs metastatic\n",
        "cat(\"DEGs_primary_vs_metatatic:\\n\")\n",
        "print(DEGs_primary_vs_metastatic)"
      ]
    },
    {
      "cell_type": "markdown",
      "metadata": {
        "id": "QChCtsr2mLrG"
      },
      "source": [
        "#5-1 Contrast between \"Colorectal cancer metastatic in the liver\" vs \"normal\""
      ]
    },
    {
      "cell_type": "code",
      "execution_count": null,
      "metadata": {
        "id": "ne4ngS-0kjIu"
      },
      "outputs": [],
      "source": [
        "# Define contrasts for Colorectal cancer metastatic in the liver vs normal\n",
        "contrasts_3 <- list(\n",
        "   \"DEGs_metastatic_vs_normal\" = c(\"tissue_type\", \"colorectal cancer metastatic in the liver\", \"normal\"))"
      ]
    },
    {
      "cell_type": "markdown",
      "metadata": {
        "id": "uS_jXHDWrUbO"
      },
      "source": [
        "#5-2. Set adjusted p-value < 0.05 and log2FC > 1\n",
        "\n",
        "\n"
      ]
    },
    {
      "cell_type": "code",
      "execution_count": null,
      "metadata": {
        "id": "Jrq3nEDHq67T"
      },
      "outputs": [],
      "source": [
        "# Function to extract DEGs based on specified contrast\n",
        "get_DEGs <- function(contrast_name, deseq2obj) {\n",
        "  contrast <- contrasts_3[[contrast_name]]\n",
        "  res <- results(deseq2obj, contrast=contrast)\n",
        "  DEGs <- subset(res, padj < 0.05 & abs(log2FoldChange) > 1)\n",
        "  return(DEGs)\n",
        "}"
      ]
    },
    {
      "cell_type": "markdown",
      "metadata": {
        "id": "9qoTeLx_rZkP"
      },
      "source": [
        "# 5-3.  Resulting DEGs \"DEGs_metastatic_vs_normal\""
      ]
    },
    {
      "cell_type": "code",
      "execution_count": null,
      "metadata": {
        "colab": {
          "base_uri": "https://localhost:8080/"
        },
        "id": "WNt1yOfRfILv",
        "outputId": "999d37d0-7d3d-4048-9a98-bcdd07666d05"
      },
      "outputs": [
        {
          "output_type": "stream",
          "name": "stdout",
          "text": [
            "\n",
            "DEGs_metastatic_vs_normal:\n",
            "log2 fold change (MLE): tissue_type colorectal cancer metastatic in the liver vs normal \n",
            "Wald test p-value: tissue_type colorectal cancer metastatic in the liver vs normal \n",
            "DataFrame with 5194 rows and 6 columns\n",
            "                 baseMean log2FoldChange     lfcSE      stat      pvalue\n",
            "                <numeric>      <numeric> <numeric> <numeric>   <numeric>\n",
            "ENSG00000000419  413.6387        1.00530  0.135435   7.42276 1.14706e-13\n",
            "ENSG00000000460   67.4848        1.28814  0.217616   5.91931 3.23303e-09\n",
            "ENSG00000000938   95.4193        1.16772  0.244286   4.78014 1.75175e-06\n",
            "ENSG00000000971 2067.4447        1.81576  0.402931   4.50638 6.59442e-06\n",
            "ENSG00000001460  114.9255       -1.37904  0.186843  -7.38073 1.57418e-13\n",
            "...                   ...            ...       ...       ...         ...\n",
            "ENSG00000285756 36.292924        1.06112  0.191541   5.53989 3.02659e-08\n",
            "ENSG00000285847  0.992185       -1.93789  0.639412  -3.03074 2.43957e-03\n",
            "ENSG00000285872  4.852378        2.02019  0.439238   4.59929 4.23928e-06\n",
            "ENSG00000285873  1.909773       -1.22638  0.527257  -2.32596 2.00206e-02\n",
            "ENSG00000285938  5.164246        1.24669  0.495562   2.51572 1.18790e-02\n",
            "                       padj\n",
            "                  <numeric>\n",
            "ENSG00000000419 4.36603e-12\n",
            "ENSG00000000460 4.30905e-08\n",
            "ENSG00000000938 1.16834e-05\n",
            "ENSG00000000971 3.81192e-05\n",
            "ENSG00000001460 5.81849e-12\n",
            "...                     ...\n",
            "ENSG00000285756 3.13449e-07\n",
            "ENSG00000285847 7.22205e-03\n",
            "ENSG00000285872 2.57560e-05\n",
            "ENSG00000285873 4.52808e-02\n",
            "ENSG00000285938 2.88227e-02\n"
          ]
        }
      ],
      "source": [
        "# Extract DEGs for metastatic_vs_normal\n",
        "\n",
        "DEGs_metastatic_vs_normal <- get_DEGs(\"DEGs_metastatic_vs_normal\", deseq2obj)\n",
        "\n",
        "\n",
        "#print DEG for metastatic_vs_normal\n",
        "\n",
        "cat(\"\\nDEGs_metastatic_vs_normal:\\n\")\n",
        "print(DEGs_metastatic_vs_normal)"
      ]
    },
    {
      "cell_type": "markdown",
      "metadata": {
        "id": "kg1MlozOfQAp"
      },
      "source": [
        "## Question 2: Gene Ontology enrichment\n"
      ]
    },
    {
      "cell_type": "code",
      "execution_count": null,
      "metadata": {
        "colab": {
          "base_uri": "https://localhost:8080/"
        },
        "id": "J2fhCfO8fYFb",
        "outputId": "024a6ad5-f3ca-4cf7-e3c4-0365e3afcbd6"
      },
      "outputs": [
        {
          "output_type": "stream",
          "name": "stderr",
          "text": [
            "'getOption(\"repos\")' replaces Bioconductor standard repositories, see\n",
            "'help(\"repositories\", package = \"BiocManager\")' for details.\n",
            "Replacement repositories:\n",
            "    CRAN: https://cran.rstudio.com\n",
            "\n",
            "Bioconductor version 3.19 (BiocManager 1.30.23), R 4.4.0 (2024-04-24)\n",
            "\n",
            "Warning message:\n",
            "“package(s) not installed when version(s) same as or greater than current; use\n",
            "  `force = TRUE` to re-install: 'biomaRt'”\n",
            "Old packages: 'bit', 'brio', 'bslib', 'callr', 'curl', 'data.table', 'DBI',\n",
            "  'dbplyr', 'devtools', 'digest', 'fs', 'gargle', 'ggplot2', 'gh', 'gtable',\n",
            "  'highr', 'htmltools', 'httr2', 'isoband', 'knitr', 'munsell', 'openssl',\n",
            "  'pkgbuild', 'processx', 'ragg', 'remotes', 'rmarkdown', 'rstudioapi',\n",
            "  'rvest', 'sass', 'stringi', 'systemfonts', 'testthat', 'textshaping',\n",
            "  'tidyselect', 'tinytex', 'usethis', 'whisker', 'xfun', 'xopen', 'zip',\n",
            "  'codetools', 'lattice', 'MASS', 'Matrix', 'nlme', 'survival'\n",
            "\n"
          ]
        }
      ],
      "source": [
        "# Install and load required packages\n",
        "BiocManager::install(\"biomaRt\")\n",
        "library(biomaRt)"
      ]
    },
    {
      "cell_type": "code",
      "execution_count": null,
      "metadata": {
        "id": "PEANrP1xt4tj"
      },
      "outputs": [],
      "source": [
        "# Define the GO enrichment analysis using enrichGO()function\n",
        "perform_GO_enrichment <- function(DEGs, contrast_name) {\n",
        "  # Extract gene symbols from DEGs\n",
        "  gene_symbols <- rownames(DEGs)\n",
        "\n",
        "  # Initialize biomaRt\n",
        "  mart <- useMart(biomart = \"ensembl\", dataset = \"hsapiens_gene_ensembl\")\n",
        "\n",
        "  # Get GO annotations\n",
        "  go_annotations <- getBM(attributes = c(\"ensembl_gene_id\", \"go_id\"),\n",
        "                           filters = \"ensembl_gene_id\",\n",
        "                           values = gene_symbols,\n",
        "                           mart = mart)\n",
        "\n",
        "  # Perform GO enrichment analysis using the retrieved GO annotations\n",
        "\n",
        "  # Print top enriched terms\n",
        "  cat(\"\\nTop 5 enriched GO BP terms for\", contrast_name, \":\\n\")\n",
        "  print(head(go_annotations, 5))\n",
        "}"
      ]
    },
    {
      "cell_type": "markdown",
      "metadata": {
        "id": "Q4smKB8bvfCp"
      },
      "source": [
        "# For \"DEGs_primary_vs_normal\""
      ]
    },
    {
      "cell_type": "code",
      "execution_count": null,
      "metadata": {
        "colab": {
          "base_uri": "https://localhost:8080/"
        },
        "id": "OCSvAdDTg5Z_",
        "outputId": "60a3d90b-815a-49ee-e810-8c8eaf2b3e39"
      },
      "outputs": [
        {
          "output_type": "stream",
          "name": "stdout",
          "text": [
            "\n",
            "Top 5 enriched GO BP terms for DEGs_primary_vs_normal :\n",
            "  ensembl_gene_id      go_id\n",
            "1 ENSG00000154721 GO:0016020\n",
            "2 ENSG00000154721 GO:0005886\n",
            "3 ENSG00000154721 GO:0070161\n",
            "4 ENSG00000154721 GO:0005515\n",
            "5 ENSG00000154721 GO:0005923\n"
          ]
        }
      ],
      "source": [
        "#Calculating the GO enrichment betweeen primary vs normal\n",
        "\n",
        "perform_GO_enrichment(DEGs_primary_vs_normal, \"DEGs_primary_vs_normal\")"
      ]
    },
    {
      "cell_type": "markdown",
      "metadata": {
        "id": "o5uMrB_ivswE"
      },
      "source": [
        "# For \"DEGs_primary_vs_metastatic\""
      ]
    },
    {
      "cell_type": "code",
      "execution_count": null,
      "metadata": {
        "colab": {
          "background_save": true
        },
        "id": "duTFl7zyvzbH",
        "outputId": "f5e688f8-4889-48f8-c91f-0cc92ead36d2"
      },
      "outputs": [
        {
          "name": "stdout",
          "output_type": "stream",
          "text": [
            "\n",
            "Top 5 enriched GO BP terms for DEGs_primary_vs_metastatic :\n",
            "  ensembl_gene_id      go_id\n",
            "1 ENSG00000154721 GO:0016020\n",
            "2 ENSG00000154721 GO:0005886\n",
            "3 ENSG00000154721 GO:0070161\n",
            "4 ENSG00000154721 GO:0005515\n",
            "5 ENSG00000154721 GO:0005923\n"
          ]
        }
      ],
      "source": [
        "#Calculating the GO enrichment betweeen primary vs metastatic\n",
        "\n",
        "perform_GO_enrichment(DEGs_primary_vs_metastatic, \"DEGs_primary_vs_metastatic\")"
      ]
    },
    {
      "cell_type": "markdown",
      "metadata": {
        "id": "J_EY3nHLxrIt"
      },
      "source": [
        "# For \"DEGs_metastatic_vs_normal\""
      ]
    },
    {
      "cell_type": "code",
      "execution_count": null,
      "metadata": {
        "id": "4Ah3jt2Ix0i_",
        "colab": {
          "base_uri": "https://localhost:8080/"
        },
        "outputId": "8387f789-ffbe-4d45-dd65-c4170eb6e3a4"
      },
      "outputs": [
        {
          "output_type": "stream",
          "name": "stdout",
          "text": [
            "\n",
            "Top 5 enriched GO BP terms for DEGs_metastatic_vs_normal :\n",
            "  ensembl_gene_id      go_id\n",
            "1 ENSG00000114374           \n",
            "2 ENSG00000114374 GO:0004843\n",
            "3 ENSG00000114374 GO:0016579\n",
            "4 ENSG00000114374 GO:0005737\n",
            "5 ENSG00000114374 GO:0008233\n"
          ]
        }
      ],
      "source": [
        "#Calculating the GO enrichment between metastatics vs normal\n",
        "\n",
        "perform_GO_enrichment(DEGs_metastatic_vs_normal, \"DEGs_metastatic_vs_normal\")"
      ]
    }
  ],
  "metadata": {
    "colab": {
      "provenance": [],
      "include_colab_link": true
    },
    "kernelspec": {
      "display_name": "R",
      "name": "ir"
    },
    "language_info": {
      "name": "R"
    }
  },
  "nbformat": 4,
  "nbformat_minor": 0
}